{
  "nbformat": 4,
  "nbformat_minor": 0,
  "metadata": {
    "colab": {
      "provenance": [],
      "collapsed_sections": [],
      "authorship_tag": "ABX9TyNzoPp6MIscs3WUjCv/QRtt",
      "include_colab_link": true
    },
    "kernelspec": {
      "name": "python3",
      "display_name": "Python 3"
    },
    "language_info": {
      "name": "python"
    }
  },
  "cells": [
    {
      "cell_type": "markdown",
      "metadata": {
        "id": "view-in-github",
        "colab_type": "text"
      },
      "source": [
        "<a href=\"https://colab.research.google.com/github/manishramamoorthy/DataScience-Projects/blob/main/Project_2_Gold_Price_Prediction.ipynb\" target=\"_parent\"><img src=\"https://colab.research.google.com/assets/colab-badge.svg\" alt=\"Open In Colab\"/></a>"
      ]
    },
    {
      "cell_type": "code",
      "execution_count": null,
      "metadata": {
        "id": "tMBpGtbiqN9w"
      },
      "outputs": [],
      "source": []
    },
    {
      "cell_type": "markdown",
      "source": [
        "## **Content of Gold Price Prediction :**\n",
        "1) Importing Libraries                  \n",
        "2) Load a DataSet                    \n",
        "3) Data PreProcessing\n",
        "\n",
        "    -> 1) Top Five Rows of DataSet \n",
        "    -> 2) Last Five Rows of DataSet    \n",
        "    -> 3) Shape of DataSet          \n",
        "    -> 4) Data Types             \n",
        "    -> 5) Information of DataSet                  \n",
        "    -> 6) Checking Missing Values of DataSet   \n",
        "    -> 7) Droping Duplicates Values of Dataset         \n",
        "4) EDA (Exploratory Data Analysis) \n",
        "           \n",
        "    -> 1) Statistical Measures     \n",
        "    -> 2) Correlation           \n",
        "    -> 3) visualization of Correlation          \n",
        "    -> 4) Checking the Distribution of the GOLD Price                       \n",
        "5) Train and Test Split                   \n",
        "6) Feature Scaling                                        \n",
        "7) Build a Model                     \n",
        "8) Making Prediction                    \n",
        "9) Compare Actual and Predicted Scores                \n",
        "10) Evaluation Metrics     \n",
        "11) Feature Importances                 "
      ],
      "metadata": {
        "id": "or7QrRUQqmSW"
      }
    },
    {
      "cell_type": "markdown",
      "source": [
        "**Summary of Gold Price Prediction :**      \n",
        "Gold Price Prediction is a Supervised Learning. The Vision of Gold Price Prediction is from Analysis a Feature to Predict Current Gold Rate."
      ],
      "metadata": {
        "id": "GcV2L_9fvZmI"
      }
    },
    {
      "cell_type": "markdown",
      "source": [
        "**Variable Description:**            \n",
        "1) Date — mm/dd/yyyy        \n",
        "2) SPX — is a free-float weighted measurement stock market index of the 500 largest companies listed on stock exchanges in the United States.          \n",
        "3) GLD — Gold Price     \n",
        "4) USO — United States Oil Fund          \n",
        "5) SLV — Silver Price            \n",
        "6) EUR/USD — currency pair quotation of the Euro against the US          \n"
      ],
      "metadata": {
        "id": "q2yPEWb_wu0-"
      }
    },
    {
      "cell_type": "markdown",
      "source": [
        "## **1) Importing Libraries**"
      ],
      "metadata": {
        "id": "65KdrRVYqwej"
      }
    },
    {
      "cell_type": "code",
      "source": [
        "import pandas as pd\n",
        "import numpy as np \n",
        "\n",
        "import warnings\n",
        "warnings.filterwarnings(\"ignore\")\n",
        "\n",
        "import matplotlib.pyplot as plt\n",
        "import seaborn as sns\n",
        "\n",
        "from sklearn.model_selection import train_test_split\n",
        "from sklearn.ensemble import RandomForestRegressor\n",
        "from sklearn import metrics"
      ],
      "metadata": {
        "id": "eY9rD8n8qnoN"
      },
      "execution_count": 4,
      "outputs": []
    },
    {
      "cell_type": "markdown",
      "source": [
        "# **2) Load a DataSet**"
      ],
      "metadata": {
        "id": "sObt9wzZq8-M"
      }
    },
    {
      "cell_type": "code",
      "source": [
        "gold_data = pd.read_csv(\"/content/gld_price_data.csv\")"
      ],
      "metadata": {
        "id": "gg7JxH5cq0db"
      },
      "execution_count": 5,
      "outputs": []
    },
    {
      "cell_type": "markdown",
      "source": [
        "# **3) Data PreProcessing**"
      ],
      "metadata": {
        "id": "CRkICh9_rNaO"
      }
    },
    {
      "cell_type": "markdown",
      "source": [
        "**1) Top Five Rows of DataSet**"
      ],
      "metadata": {
        "id": "n6dgmPPGrQKD"
      }
    },
    {
      "cell_type": "code",
      "source": [
        "gold_data.head()"
      ],
      "metadata": {
        "colab": {
          "base_uri": "https://localhost:8080/",
          "height": 206
        },
        "id": "HyaDrTv2rLY0",
        "outputId": "e0d06729-8639-4701-c339-4639360dc181"
      },
      "execution_count": 6,
      "outputs": [
        {
          "output_type": "execute_result",
          "data": {
            "text/plain": [
              "       Date          SPX        GLD        USO     SLV   EUR/USD\n",
              "0  1/2/2008  1447.160034  84.860001  78.470001  15.180  1.471692\n",
              "1  1/3/2008  1447.160034  85.570000  78.370003  15.285  1.474491\n",
              "2  1/4/2008  1411.630005  85.129997  77.309998  15.167  1.475492\n",
              "3  1/7/2008  1416.180054  84.769997  75.500000  15.053  1.468299\n",
              "4  1/8/2008  1390.189941  86.779999  76.059998  15.590  1.557099"
            ],
            "text/html": [
              "\n",
              "  <div id=\"df-2d466358-1388-4d4e-99c4-616e14e97199\">\n",
              "    <div class=\"colab-df-container\">\n",
              "      <div>\n",
              "<style scoped>\n",
              "    .dataframe tbody tr th:only-of-type {\n",
              "        vertical-align: middle;\n",
              "    }\n",
              "\n",
              "    .dataframe tbody tr th {\n",
              "        vertical-align: top;\n",
              "    }\n",
              "\n",
              "    .dataframe thead th {\n",
              "        text-align: right;\n",
              "    }\n",
              "</style>\n",
              "<table border=\"1\" class=\"dataframe\">\n",
              "  <thead>\n",
              "    <tr style=\"text-align: right;\">\n",
              "      <th></th>\n",
              "      <th>Date</th>\n",
              "      <th>SPX</th>\n",
              "      <th>GLD</th>\n",
              "      <th>USO</th>\n",
              "      <th>SLV</th>\n",
              "      <th>EUR/USD</th>\n",
              "    </tr>\n",
              "  </thead>\n",
              "  <tbody>\n",
              "    <tr>\n",
              "      <th>0</th>\n",
              "      <td>1/2/2008</td>\n",
              "      <td>1447.160034</td>\n",
              "      <td>84.860001</td>\n",
              "      <td>78.470001</td>\n",
              "      <td>15.180</td>\n",
              "      <td>1.471692</td>\n",
              "    </tr>\n",
              "    <tr>\n",
              "      <th>1</th>\n",
              "      <td>1/3/2008</td>\n",
              "      <td>1447.160034</td>\n",
              "      <td>85.570000</td>\n",
              "      <td>78.370003</td>\n",
              "      <td>15.285</td>\n",
              "      <td>1.474491</td>\n",
              "    </tr>\n",
              "    <tr>\n",
              "      <th>2</th>\n",
              "      <td>1/4/2008</td>\n",
              "      <td>1411.630005</td>\n",
              "      <td>85.129997</td>\n",
              "      <td>77.309998</td>\n",
              "      <td>15.167</td>\n",
              "      <td>1.475492</td>\n",
              "    </tr>\n",
              "    <tr>\n",
              "      <th>3</th>\n",
              "      <td>1/7/2008</td>\n",
              "      <td>1416.180054</td>\n",
              "      <td>84.769997</td>\n",
              "      <td>75.500000</td>\n",
              "      <td>15.053</td>\n",
              "      <td>1.468299</td>\n",
              "    </tr>\n",
              "    <tr>\n",
              "      <th>4</th>\n",
              "      <td>1/8/2008</td>\n",
              "      <td>1390.189941</td>\n",
              "      <td>86.779999</td>\n",
              "      <td>76.059998</td>\n",
              "      <td>15.590</td>\n",
              "      <td>1.557099</td>\n",
              "    </tr>\n",
              "  </tbody>\n",
              "</table>\n",
              "</div>\n",
              "      <button class=\"colab-df-convert\" onclick=\"convertToInteractive('df-2d466358-1388-4d4e-99c4-616e14e97199')\"\n",
              "              title=\"Convert this dataframe to an interactive table.\"\n",
              "              style=\"display:none;\">\n",
              "        \n",
              "  <svg xmlns=\"http://www.w3.org/2000/svg\" height=\"24px\"viewBox=\"0 0 24 24\"\n",
              "       width=\"24px\">\n",
              "    <path d=\"M0 0h24v24H0V0z\" fill=\"none\"/>\n",
              "    <path d=\"M18.56 5.44l.94 2.06.94-2.06 2.06-.94-2.06-.94-.94-2.06-.94 2.06-2.06.94zm-11 1L8.5 8.5l.94-2.06 2.06-.94-2.06-.94L8.5 2.5l-.94 2.06-2.06.94zm10 10l.94 2.06.94-2.06 2.06-.94-2.06-.94-.94-2.06-.94 2.06-2.06.94z\"/><path d=\"M17.41 7.96l-1.37-1.37c-.4-.4-.92-.59-1.43-.59-.52 0-1.04.2-1.43.59L10.3 9.45l-7.72 7.72c-.78.78-.78 2.05 0 2.83L4 21.41c.39.39.9.59 1.41.59.51 0 1.02-.2 1.41-.59l7.78-7.78 2.81-2.81c.8-.78.8-2.07 0-2.86zM5.41 20L4 18.59l7.72-7.72 1.47 1.35L5.41 20z\"/>\n",
              "  </svg>\n",
              "      </button>\n",
              "      \n",
              "  <style>\n",
              "    .colab-df-container {\n",
              "      display:flex;\n",
              "      flex-wrap:wrap;\n",
              "      gap: 12px;\n",
              "    }\n",
              "\n",
              "    .colab-df-convert {\n",
              "      background-color: #E8F0FE;\n",
              "      border: none;\n",
              "      border-radius: 50%;\n",
              "      cursor: pointer;\n",
              "      display: none;\n",
              "      fill: #1967D2;\n",
              "      height: 32px;\n",
              "      padding: 0 0 0 0;\n",
              "      width: 32px;\n",
              "    }\n",
              "\n",
              "    .colab-df-convert:hover {\n",
              "      background-color: #E2EBFA;\n",
              "      box-shadow: 0px 1px 2px rgba(60, 64, 67, 0.3), 0px 1px 3px 1px rgba(60, 64, 67, 0.15);\n",
              "      fill: #174EA6;\n",
              "    }\n",
              "\n",
              "    [theme=dark] .colab-df-convert {\n",
              "      background-color: #3B4455;\n",
              "      fill: #D2E3FC;\n",
              "    }\n",
              "\n",
              "    [theme=dark] .colab-df-convert:hover {\n",
              "      background-color: #434B5C;\n",
              "      box-shadow: 0px 1px 3px 1px rgba(0, 0, 0, 0.15);\n",
              "      filter: drop-shadow(0px 1px 2px rgba(0, 0, 0, 0.3));\n",
              "      fill: #FFFFFF;\n",
              "    }\n",
              "  </style>\n",
              "\n",
              "      <script>\n",
              "        const buttonEl =\n",
              "          document.querySelector('#df-2d466358-1388-4d4e-99c4-616e14e97199 button.colab-df-convert');\n",
              "        buttonEl.style.display =\n",
              "          google.colab.kernel.accessAllowed ? 'block' : 'none';\n",
              "\n",
              "        async function convertToInteractive(key) {\n",
              "          const element = document.querySelector('#df-2d466358-1388-4d4e-99c4-616e14e97199');\n",
              "          const dataTable =\n",
              "            await google.colab.kernel.invokeFunction('convertToInteractive',\n",
              "                                                     [key], {});\n",
              "          if (!dataTable) return;\n",
              "\n",
              "          const docLinkHtml = 'Like what you see? Visit the ' +\n",
              "            '<a target=\"_blank\" href=https://colab.research.google.com/notebooks/data_table.ipynb>data table notebook</a>'\n",
              "            + ' to learn more about interactive tables.';\n",
              "          element.innerHTML = '';\n",
              "          dataTable['output_type'] = 'display_data';\n",
              "          await google.colab.output.renderOutput(dataTable, element);\n",
              "          const docLink = document.createElement('div');\n",
              "          docLink.innerHTML = docLinkHtml;\n",
              "          element.appendChild(docLink);\n",
              "        }\n",
              "      </script>\n",
              "    </div>\n",
              "  </div>\n",
              "  "
            ]
          },
          "metadata": {},
          "execution_count": 6
        }
      ]
    },
    {
      "cell_type": "markdown",
      "source": [
        "**2) Last Five Rows of DataSet**"
      ],
      "metadata": {
        "id": "7wZKN10hrYED"
      }
    },
    {
      "cell_type": "code",
      "source": [
        "gold_data.tail()"
      ],
      "metadata": {
        "colab": {
          "base_uri": "https://localhost:8080/",
          "height": 206
        },
        "id": "zfIHcmbVrSuN",
        "outputId": "dca75066-141e-4101-b6c2-c782a5a1536b"
      },
      "execution_count": 7,
      "outputs": [
        {
          "output_type": "execute_result",
          "data": {
            "text/plain": [
              "           Date          SPX         GLD      USO      SLV   EUR/USD\n",
              "2285   5/8/2018  2671.919922  124.589996  14.0600  15.5100  1.186789\n",
              "2286   5/9/2018  2697.790039  124.330002  14.3700  15.5300  1.184722\n",
              "2287  5/10/2018  2723.070068  125.180000  14.4100  15.7400  1.191753\n",
              "2288  5/14/2018  2730.129883  124.489998  14.3800  15.5600  1.193118\n",
              "2289  5/16/2018  2725.780029  122.543800  14.4058  15.4542  1.182033"
            ],
            "text/html": [
              "\n",
              "  <div id=\"df-3ca1e990-5647-4a7e-bdf2-cf08a78ba38e\">\n",
              "    <div class=\"colab-df-container\">\n",
              "      <div>\n",
              "<style scoped>\n",
              "    .dataframe tbody tr th:only-of-type {\n",
              "        vertical-align: middle;\n",
              "    }\n",
              "\n",
              "    .dataframe tbody tr th {\n",
              "        vertical-align: top;\n",
              "    }\n",
              "\n",
              "    .dataframe thead th {\n",
              "        text-align: right;\n",
              "    }\n",
              "</style>\n",
              "<table border=\"1\" class=\"dataframe\">\n",
              "  <thead>\n",
              "    <tr style=\"text-align: right;\">\n",
              "      <th></th>\n",
              "      <th>Date</th>\n",
              "      <th>SPX</th>\n",
              "      <th>GLD</th>\n",
              "      <th>USO</th>\n",
              "      <th>SLV</th>\n",
              "      <th>EUR/USD</th>\n",
              "    </tr>\n",
              "  </thead>\n",
              "  <tbody>\n",
              "    <tr>\n",
              "      <th>2285</th>\n",
              "      <td>5/8/2018</td>\n",
              "      <td>2671.919922</td>\n",
              "      <td>124.589996</td>\n",
              "      <td>14.0600</td>\n",
              "      <td>15.5100</td>\n",
              "      <td>1.186789</td>\n",
              "    </tr>\n",
              "    <tr>\n",
              "      <th>2286</th>\n",
              "      <td>5/9/2018</td>\n",
              "      <td>2697.790039</td>\n",
              "      <td>124.330002</td>\n",
              "      <td>14.3700</td>\n",
              "      <td>15.5300</td>\n",
              "      <td>1.184722</td>\n",
              "    </tr>\n",
              "    <tr>\n",
              "      <th>2287</th>\n",
              "      <td>5/10/2018</td>\n",
              "      <td>2723.070068</td>\n",
              "      <td>125.180000</td>\n",
              "      <td>14.4100</td>\n",
              "      <td>15.7400</td>\n",
              "      <td>1.191753</td>\n",
              "    </tr>\n",
              "    <tr>\n",
              "      <th>2288</th>\n",
              "      <td>5/14/2018</td>\n",
              "      <td>2730.129883</td>\n",
              "      <td>124.489998</td>\n",
              "      <td>14.3800</td>\n",
              "      <td>15.5600</td>\n",
              "      <td>1.193118</td>\n",
              "    </tr>\n",
              "    <tr>\n",
              "      <th>2289</th>\n",
              "      <td>5/16/2018</td>\n",
              "      <td>2725.780029</td>\n",
              "      <td>122.543800</td>\n",
              "      <td>14.4058</td>\n",
              "      <td>15.4542</td>\n",
              "      <td>1.182033</td>\n",
              "    </tr>\n",
              "  </tbody>\n",
              "</table>\n",
              "</div>\n",
              "      <button class=\"colab-df-convert\" onclick=\"convertToInteractive('df-3ca1e990-5647-4a7e-bdf2-cf08a78ba38e')\"\n",
              "              title=\"Convert this dataframe to an interactive table.\"\n",
              "              style=\"display:none;\">\n",
              "        \n",
              "  <svg xmlns=\"http://www.w3.org/2000/svg\" height=\"24px\"viewBox=\"0 0 24 24\"\n",
              "       width=\"24px\">\n",
              "    <path d=\"M0 0h24v24H0V0z\" fill=\"none\"/>\n",
              "    <path d=\"M18.56 5.44l.94 2.06.94-2.06 2.06-.94-2.06-.94-.94-2.06-.94 2.06-2.06.94zm-11 1L8.5 8.5l.94-2.06 2.06-.94-2.06-.94L8.5 2.5l-.94 2.06-2.06.94zm10 10l.94 2.06.94-2.06 2.06-.94-2.06-.94-.94-2.06-.94 2.06-2.06.94z\"/><path d=\"M17.41 7.96l-1.37-1.37c-.4-.4-.92-.59-1.43-.59-.52 0-1.04.2-1.43.59L10.3 9.45l-7.72 7.72c-.78.78-.78 2.05 0 2.83L4 21.41c.39.39.9.59 1.41.59.51 0 1.02-.2 1.41-.59l7.78-7.78 2.81-2.81c.8-.78.8-2.07 0-2.86zM5.41 20L4 18.59l7.72-7.72 1.47 1.35L5.41 20z\"/>\n",
              "  </svg>\n",
              "      </button>\n",
              "      \n",
              "  <style>\n",
              "    .colab-df-container {\n",
              "      display:flex;\n",
              "      flex-wrap:wrap;\n",
              "      gap: 12px;\n",
              "    }\n",
              "\n",
              "    .colab-df-convert {\n",
              "      background-color: #E8F0FE;\n",
              "      border: none;\n",
              "      border-radius: 50%;\n",
              "      cursor: pointer;\n",
              "      display: none;\n",
              "      fill: #1967D2;\n",
              "      height: 32px;\n",
              "      padding: 0 0 0 0;\n",
              "      width: 32px;\n",
              "    }\n",
              "\n",
              "    .colab-df-convert:hover {\n",
              "      background-color: #E2EBFA;\n",
              "      box-shadow: 0px 1px 2px rgba(60, 64, 67, 0.3), 0px 1px 3px 1px rgba(60, 64, 67, 0.15);\n",
              "      fill: #174EA6;\n",
              "    }\n",
              "\n",
              "    [theme=dark] .colab-df-convert {\n",
              "      background-color: #3B4455;\n",
              "      fill: #D2E3FC;\n",
              "    }\n",
              "\n",
              "    [theme=dark] .colab-df-convert:hover {\n",
              "      background-color: #434B5C;\n",
              "      box-shadow: 0px 1px 3px 1px rgba(0, 0, 0, 0.15);\n",
              "      filter: drop-shadow(0px 1px 2px rgba(0, 0, 0, 0.3));\n",
              "      fill: #FFFFFF;\n",
              "    }\n",
              "  </style>\n",
              "\n",
              "      <script>\n",
              "        const buttonEl =\n",
              "          document.querySelector('#df-3ca1e990-5647-4a7e-bdf2-cf08a78ba38e button.colab-df-convert');\n",
              "        buttonEl.style.display =\n",
              "          google.colab.kernel.accessAllowed ? 'block' : 'none';\n",
              "\n",
              "        async function convertToInteractive(key) {\n",
              "          const element = document.querySelector('#df-3ca1e990-5647-4a7e-bdf2-cf08a78ba38e');\n",
              "          const dataTable =\n",
              "            await google.colab.kernel.invokeFunction('convertToInteractive',\n",
              "                                                     [key], {});\n",
              "          if (!dataTable) return;\n",
              "\n",
              "          const docLinkHtml = 'Like what you see? Visit the ' +\n",
              "            '<a target=\"_blank\" href=https://colab.research.google.com/notebooks/data_table.ipynb>data table notebook</a>'\n",
              "            + ' to learn more about interactive tables.';\n",
              "          element.innerHTML = '';\n",
              "          dataTable['output_type'] = 'display_data';\n",
              "          await google.colab.output.renderOutput(dataTable, element);\n",
              "          const docLink = document.createElement('div');\n",
              "          docLink.innerHTML = docLinkHtml;\n",
              "          element.appendChild(docLink);\n",
              "        }\n",
              "      </script>\n",
              "    </div>\n",
              "  </div>\n",
              "  "
            ]
          },
          "metadata": {},
          "execution_count": 7
        }
      ]
    },
    {
      "cell_type": "markdown",
      "source": [
        "**3) Shape of DataSet**"
      ],
      "metadata": {
        "id": "SjNoJidGrcGD"
      }
    },
    {
      "cell_type": "code",
      "source": [
        "gold_data.shape\n",
        "print(\"Number of Rows: \",gold_data.shape[0])\n",
        "print(\"Number of Columns: \",gold_data.shape[1])"
      ],
      "metadata": {
        "colab": {
          "base_uri": "https://localhost:8080/"
        },
        "id": "7uovqgPEraVx",
        "outputId": "ccafd257-7862-46da-b997-3b5cc050ea1d"
      },
      "execution_count": 8,
      "outputs": [
        {
          "output_type": "stream",
          "name": "stdout",
          "text": [
            "Number of Rows:  2290\n",
            "Number of Columns:  6\n"
          ]
        }
      ]
    },
    {
      "cell_type": "markdown",
      "source": [
        "**4) Data Types**"
      ],
      "metadata": {
        "id": "A8CVCiG3rheU"
      }
    },
    {
      "cell_type": "code",
      "source": [
        "gold_data.dtypes"
      ],
      "metadata": {
        "colab": {
          "base_uri": "https://localhost:8080/"
        },
        "id": "A_12a8wMrepz",
        "outputId": "c064585e-f92f-41ee-9981-0da11501d2a8"
      },
      "execution_count": 9,
      "outputs": [
        {
          "output_type": "execute_result",
          "data": {
            "text/plain": [
              "Date        object\n",
              "SPX        float64\n",
              "GLD        float64\n",
              "USO        float64\n",
              "SLV        float64\n",
              "EUR/USD    float64\n",
              "dtype: object"
            ]
          },
          "metadata": {},
          "execution_count": 9
        }
      ]
    },
    {
      "cell_type": "markdown",
      "source": [
        "**5) Information of DataSet**"
      ],
      "metadata": {
        "id": "FLCXM3tIrl5j"
      }
    },
    {
      "cell_type": "code",
      "source": [
        "gold_data.info()"
      ],
      "metadata": {
        "colab": {
          "base_uri": "https://localhost:8080/"
        },
        "id": "HtQXBNBXrkC4",
        "outputId": "3e1ccd38-9dde-4ca2-b4ac-8d0b81a0b2b2"
      },
      "execution_count": 10,
      "outputs": [
        {
          "output_type": "stream",
          "name": "stdout",
          "text": [
            "<class 'pandas.core.frame.DataFrame'>\n",
            "RangeIndex: 2290 entries, 0 to 2289\n",
            "Data columns (total 6 columns):\n",
            " #   Column   Non-Null Count  Dtype  \n",
            "---  ------   --------------  -----  \n",
            " 0   Date     2290 non-null   object \n",
            " 1   SPX      2290 non-null   float64\n",
            " 2   GLD      2290 non-null   float64\n",
            " 3   USO      2290 non-null   float64\n",
            " 4   SLV      2290 non-null   float64\n",
            " 5   EUR/USD  2290 non-null   float64\n",
            "dtypes: float64(5), object(1)\n",
            "memory usage: 107.5+ KB\n"
          ]
        }
      ]
    },
    {
      "cell_type": "markdown",
      "source": [
        "**6) Checking Missing Values of DataSet**"
      ],
      "metadata": {
        "id": "ph748ktfrrUD"
      }
    },
    {
      "cell_type": "code",
      "source": [
        "plt.figure(figsize = (8,8))\n",
        "sns.heatmap(gold_data.isnull())"
      ],
      "metadata": {
        "colab": {
          "base_uri": "https://localhost:8080/",
          "height": 506
        },
        "id": "nE6K_cynrn0P",
        "outputId": "4d8de397-6537-496c-caaf-46b0adc145cb"
      },
      "execution_count": 11,
      "outputs": [
        {
          "output_type": "execute_result",
          "data": {
            "text/plain": [
              "<matplotlib.axes._subplots.AxesSubplot at 0x7fd105359a90>"
            ]
          },
          "metadata": {},
          "execution_count": 11
        },
        {
          "output_type": "display_data",
          "data": {
            "text/plain": [
              "<Figure size 576x576 with 2 Axes>"
            ],
            "image/png": "[encoded data removed]"
          },
          "metadata": {
            "needs_background": "light"
          }
        }
      ]
    },
    {
      "cell_type": "code",
      "source": [
        "gold_data.isnull().sum()"
      ],
      "metadata": {
        "colab": {
          "base_uri": "https://localhost:8080/"
        },
        "id": "rd-ue2_rr0hZ",
        "outputId": "bd8d3233-41cd-4ce0-87c7-84cf94d7b325"
      },
      "execution_count": 12,
      "outputs": [
        {
          "output_type": "execute_result",
          "data": {
            "text/plain": [
              "Date       0\n",
              "SPX        0\n",
              "GLD        0\n",
              "USO        0\n",
              "SLV        0\n",
              "EUR/USD    0\n",
              "dtype: int64"
            ]
          },
          "metadata": {},
          "execution_count": 12
        }
      ]
    },
    {
      "cell_type": "markdown",
      "source": [
        "**7) Droping Duplicates Values of Dataset**"
      ],
      "metadata": {
        "id": "9qaDuDaSr60b"
      }
    },
    {
      "cell_type": "code",
      "source": [
        "gold_data = gold_data.drop_duplicates()"
      ],
      "metadata": {
        "id": "L2JvuJ0lr35w"
      },
      "execution_count": 13,
      "outputs": []
    },
    {
      "cell_type": "markdown",
      "source": [
        "**4) EDA (Exploratory Data Analysis)**"
      ],
      "metadata": {
        "id": "k4cMtQzTsAUT"
      }
    },
    {
      "cell_type": "markdown",
      "source": [
        "**1) Statistical Measures**"
      ],
      "metadata": {
        "id": "48FEmtj5sC2T"
      }
    },
    {
      "cell_type": "code",
      "source": [
        "gold_data.describe()"
      ],
      "metadata": {
        "colab": {
          "base_uri": "https://localhost:8080/",
          "height": 300
        },
        "id": "H7nHGhu8r9RX",
        "outputId": "7b86516e-a6df-455e-ddc2-ac7cd57a667c"
      },
      "execution_count": 14,
      "outputs": [
        {
          "output_type": "execute_result",
          "data": {
            "text/plain": [
              "               SPX          GLD          USO          SLV      EUR/USD\n",
              "count  2290.000000  2290.000000  2290.000000  2290.000000  2290.000000\n",
              "mean   1654.315776   122.732875    31.842221    20.084997     1.283653\n",
              "std     519.111540    23.283346    19.523517     7.092566     0.131547\n",
              "min     676.530029    70.000000     7.960000     8.850000     1.039047\n",
              "25%    1239.874969   109.725000    14.380000    15.570000     1.171313\n",
              "50%    1551.434998   120.580002    33.869999    17.268500     1.303297\n",
              "75%    2073.010070   132.840004    37.827501    22.882500     1.369971\n",
              "max    2872.870117   184.589996   117.480003    47.259998     1.598798"
            ],
            "text/html": [
              "\n",
              "  <div id=\"df-384ccf8c-c2d1-405c-a9a6-6056bcb54c12\">\n",
              "    <div class=\"colab-df-container\">\n",
              "      <div>\n",
              "<style scoped>\n",
              "    .dataframe tbody tr th:only-of-type {\n",
              "        vertical-align: middle;\n",
              "    }\n",
              "\n",
              "    .dataframe tbody tr th {\n",
              "        vertical-align: top;\n",
              "    }\n",
              "\n",
              "    .dataframe thead th {\n",
              "        text-align: right;\n",
              "    }\n",
              "</style>\n",
              "<table border=\"1\" class=\"dataframe\">\n",
              "  <thead>\n",
              "    <tr style=\"text-align: right;\">\n",
              "      <th></th>\n",
              "      <th>SPX</th>\n",
              "      <th>GLD</th>\n",
              "      <th>USO</th>\n",
              "      <th>SLV</th>\n",
              "      <th>EUR/USD</th>\n",
              "    </tr>\n",
              "  </thead>\n",
              "  <tbody>\n",
              "    <tr>\n",
              "      <th>count</th>\n",
              "      <td>2290.000000</td>\n",
              "      <td>2290.000000</td>\n",
              "      <td>2290.000000</td>\n",
              "      <td>2290.000000</td>\n",
              "      <td>2290.000000</td>\n",
              "    </tr>\n",
              "    <tr>\n",
              "      <th>mean</th>\n",
              "      <td>1654.315776</td>\n",
              "      <td>122.732875</td>\n",
              "      <td>31.842221</td>\n",
              "      <td>20.084997</td>\n",
              "      <td>1.283653</td>\n",
              "    </tr>\n",
              "    <tr>\n",
              "      <th>std</th>\n",
              "      <td>519.111540</td>\n",
              "      <td>23.283346</td>\n",
              "      <td>19.523517</td>\n",
              "      <td>7.092566</td>\n",
              "      <td>0.131547</td>\n",
              "    </tr>\n",
              "    <tr>\n",
              "      <th>min</th>\n",
              "      <td>676.530029</td>\n",
              "      <td>70.000000</td>\n",
              "      <td>7.960000</td>\n",
              "      <td>8.850000</td>\n",
              "      <td>1.039047</td>\n",
              "    </tr>\n",
              "    <tr>\n",
              "      <th>25%</th>\n",
              "      <td>1239.874969</td>\n",
              "      <td>109.725000</td>\n",
              "      <td>14.380000</td>\n",
              "      <td>15.570000</td>\n",
              "      <td>1.171313</td>\n",
              "    </tr>\n",
              "    <tr>\n",
              "      <th>50%</th>\n",
              "      <td>1551.434998</td>\n",
              "      <td>120.580002</td>\n",
              "      <td>33.869999</td>\n",
              "      <td>17.268500</td>\n",
              "      <td>1.303297</td>\n",
              "    </tr>\n",
              "    <tr>\n",
              "      <th>75%</th>\n",
              "      <td>2073.010070</td>\n",
              "      <td>132.840004</td>\n",
              "      <td>37.827501</td>\n",
              "      <td>22.882500</td>\n",
              "      <td>1.369971</td>\n",
              "    </tr>\n",
              "    <tr>\n",
              "      <th>max</th>\n",
              "      <td>2872.870117</td>\n",
              "      <td>184.589996</td>\n",
              "      <td>117.480003</td>\n",
              "      <td>47.259998</td>\n",
              "      <td>1.598798</td>\n",
              "    </tr>\n",
              "  </tbody>\n",
              "</table>\n",
              "</div>\n",
              "      <button class=\"colab-df-convert\" onclick=\"convertToInteractive('df-384ccf8c-c2d1-405c-a9a6-6056bcb54c12')\"\n",
              "              title=\"Convert this dataframe to an interactive table.\"\n",
              "              style=\"display:none;\">\n",
              "        \n",
              "  <svg xmlns=\"http://www.w3.org/2000/svg\" height=\"24px\"viewBox=\"0 0 24 24\"\n",
              "       width=\"24px\">\n",
              "    <path d=\"M0 0h24v24H0V0z\" fill=\"none\"/>\n",
              "    <path d=\"M18.56 5.44l.94 2.06.94-2.06 2.06-.94-2.06-.94-.94-2.06-.94 2.06-2.06.94zm-11 1L8.5 8.5l.94-2.06 2.06-.94-2.06-.94L8.5 2.5l-.94 2.06-2.06.94zm10 10l.94 2.06.94-2.06 2.06-.94-2.06-.94-.94-2.06-.94 2.06-2.06.94z\"/><path d=\"M17.41 7.96l-1.37-1.37c-.4-.4-.92-.59-1.43-.59-.52 0-1.04.2-1.43.59L10.3 9.45l-7.72 7.72c-.78.78-.78 2.05 0 2.83L4 21.41c.39.39.9.59 1.41.59.51 0 1.02-.2 1.41-.59l7.78-7.78 2.81-2.81c.8-.78.8-2.07 0-2.86zM5.41 20L4 18.59l7.72-7.72 1.47 1.35L5.41 20z\"/>\n",
              "  </svg>\n",
              "      </button>\n",
              "      \n",
              "  <style>\n",
              "    .colab-df-container {\n",
              "      display:flex;\n",
              "      flex-wrap:wrap;\n",
              "      gap: 12px;\n",
              "    }\n",
              "\n",
              "    .colab-df-convert {\n",
              "      background-color: #E8F0FE;\n",
              "      border: none;\n",
              "      border-radius: 50%;\n",
              "      cursor: pointer;\n",
              "      display: none;\n",
              "      fill: #1967D2;\n",
              "      height: 32px;\n",
              "      padding: 0 0 0 0;\n",
              "      width: 32px;\n",
              "    }\n",
              "\n",
              "    .colab-df-convert:hover {\n",
              "      background-color: #E2EBFA;\n",
              "      box-shadow: 0px 1px 2px rgba(60, 64, 67, 0.3), 0px 1px 3px 1px rgba(60, 64, 67, 0.15);\n",
              "      fill: #174EA6;\n",
              "    }\n",
              "\n",
              "    [theme=dark] .colab-df-convert {\n",
              "      background-color: #3B4455;\n",
              "      fill: #D2E3FC;\n",
              "    }\n",
              "\n",
              "    [theme=dark] .colab-df-convert:hover {\n",
              "      background-color: #434B5C;\n",
              "      box-shadow: 0px 1px 3px 1px rgba(0, 0, 0, 0.15);\n",
              "      filter: drop-shadow(0px 1px 2px rgba(0, 0, 0, 0.3));\n",
              "      fill: #FFFFFF;\n",
              "    }\n",
              "  </style>\n",
              "\n",
              "      <script>\n",
              "        const buttonEl =\n",
              "          document.querySelector('#df-384ccf8c-c2d1-405c-a9a6-6056bcb54c12 button.colab-df-convert');\n",
              "        buttonEl.style.display =\n",
              "          google.colab.kernel.accessAllowed ? 'block' : 'none';\n",
              "\n",
              "        async function convertToInteractive(key) {\n",
              "          const element = document.querySelector('#df-384ccf8c-c2d1-405c-a9a6-6056bcb54c12');\n",
              "          const dataTable =\n",
              "            await google.colab.kernel.invokeFunction('convertToInteractive',\n",
              "                                                     [key], {});\n",
              "          if (!dataTable) return;\n",
              "\n",
              "          const docLinkHtml = 'Like what you see? Visit the ' +\n",
              "            '<a target=\"_blank\" href=https://colab.research.google.com/notebooks/data_table.ipynb>data table notebook</a>'\n",
              "            + ' to learn more about interactive tables.';\n",
              "          element.innerHTML = '';\n",
              "          dataTable['output_type'] = 'display_data';\n",
              "          await google.colab.output.renderOutput(dataTable, element);\n",
              "          const docLink = document.createElement('div');\n",
              "          docLink.innerHTML = docLinkHtml;\n",
              "          element.appendChild(docLink);\n",
              "        }\n",
              "      </script>\n",
              "    </div>\n",
              "  </div>\n",
              "  "
            ]
          },
          "metadata": {},
          "execution_count": 14
        }
      ]
    },
    {
      "cell_type": "markdown",
      "source": [
        "**2) Correlation**"
      ],
      "metadata": {
        "id": "1Kt-ut-DsHdz"
      }
    },
    {
      "cell_type": "code",
      "source": [
        "correlation = gold_data.corr()\n",
        "correlation"
      ],
      "metadata": {
        "colab": {
          "base_uri": "https://localhost:8080/",
          "height": 206
        },
        "id": "D6EsucG9sFa6",
        "outputId": "090bde2f-c9f5-4a49-ad81-aaf0d04fd233"
      },
      "execution_count": 15,
      "outputs": [
        {
          "output_type": "execute_result",
          "data": {
            "text/plain": [
              "              SPX       GLD       USO       SLV   EUR/USD\n",
              "SPX      1.000000  0.049345 -0.591573 -0.274055 -0.672017\n",
              "GLD      0.049345  1.000000 -0.186360  0.866632 -0.024375\n",
              "USO     -0.591573 -0.186360  1.000000  0.167547  0.829317\n",
              "SLV     -0.274055  0.866632  0.167547  1.000000  0.321631\n",
              "EUR/USD -0.672017 -0.024375  0.829317  0.321631  1.000000"
            ],
            "text/html": [
              "\n",
              "  <div id=\"df-d47b6f57-6b31-4ced-a8c0-cab784ea8ba3\">\n",
              "    <div class=\"colab-df-container\">\n",
              "      <div>\n",
              "<style scoped>\n",
              "    .dataframe tbody tr th:only-of-type {\n",
              "        vertical-align: middle;\n",
              "    }\n",
              "\n",
              "    .dataframe tbody tr th {\n",
              "        vertical-align: top;\n",
              "    }\n",
              "\n",
              "    .dataframe thead th {\n",
              "        text-align: right;\n",
              "    }\n",
              "</style>\n",
              "<table border=\"1\" class=\"dataframe\">\n",
              "  <thead>\n",
              "    <tr style=\"text-align: right;\">\n",
              "      <th></th>\n",
              "      <th>SPX</th>\n",
              "      <th>GLD</th>\n",
              "      <th>USO</th>\n",
              "      <th>SLV</th>\n",
              "      <th>EUR/USD</th>\n",
              "    </tr>\n",
              "  </thead>\n",
              "  <tbody>\n",
              "    <tr>\n",
              "      <th>SPX</th>\n",
              "      <td>1.000000</td>\n",
              "      <td>0.049345</td>\n",
              "      <td>-0.591573</td>\n",
              "      <td>-0.274055</td>\n",
              "      <td>-0.672017</td>\n",
              "    </tr>\n",
              "    <tr>\n",
              "      <th>GLD</th>\n",
              "      <td>0.049345</td>\n",
              "      <td>1.000000</td>\n",
              "      <td>-0.186360</td>\n",
              "      <td>0.866632</td>\n",
              "      <td>-0.024375</td>\n",
              "    </tr>\n",
              "    <tr>\n",
              "      <th>USO</th>\n",
              "      <td>-0.591573</td>\n",
              "      <td>-0.186360</td>\n",
              "      <td>1.000000</td>\n",
              "      <td>0.167547</td>\n",
              "      <td>0.829317</td>\n",
              "    </tr>\n",
              "    <tr>\n",
              "      <th>SLV</th>\n",
              "      <td>-0.274055</td>\n",
              "      <td>0.866632</td>\n",
              "      <td>0.167547</td>\n",
              "      <td>1.000000</td>\n",
              "      <td>0.321631</td>\n",
              "    </tr>\n",
              "    <tr>\n",
              "      <th>EUR/USD</th>\n",
              "      <td>-0.672017</td>\n",
              "      <td>-0.024375</td>\n",
              "      <td>0.829317</td>\n",
              "      <td>0.321631</td>\n",
              "      <td>1.000000</td>\n",
              "    </tr>\n",
              "  </tbody>\n",
              "</table>\n",
              "</div>\n",
              "      <button class=\"colab-df-convert\" onclick=\"convertToInteractive('df-d47b6f57-6b31-4ced-a8c0-cab784ea8ba3')\"\n",
              "              title=\"Convert this dataframe to an interactive table.\"\n",
              "              style=\"display:none;\">\n",
              "        \n",
              "  <svg xmlns=\"http://www.w3.org/2000/svg\" height=\"24px\"viewBox=\"0 0 24 24\"\n",
              "       width=\"24px\">\n",
              "    <path d=\"M0 0h24v24H0V0z\" fill=\"none\"/>\n",
              "    <path d=\"M18.56 5.44l.94 2.06.94-2.06 2.06-.94-2.06-.94-.94-2.06-.94 2.06-2.06.94zm-11 1L8.5 8.5l.94-2.06 2.06-.94-2.06-.94L8.5 2.5l-.94 2.06-2.06.94zm10 10l.94 2.06.94-2.06 2.06-.94-2.06-.94-.94-2.06-.94 2.06-2.06.94z\"/><path d=\"M17.41 7.96l-1.37-1.37c-.4-.4-.92-.59-1.43-.59-.52 0-1.04.2-1.43.59L10.3 9.45l-7.72 7.72c-.78.78-.78 2.05 0 2.83L4 21.41c.39.39.9.59 1.41.59.51 0 1.02-.2 1.41-.59l7.78-7.78 2.81-2.81c.8-.78.8-2.07 0-2.86zM5.41 20L4 18.59l7.72-7.72 1.47 1.35L5.41 20z\"/>\n",
              "  </svg>\n",
              "      </button>\n",
              "      \n",
              "  <style>\n",
              "    .colab-df-container {\n",
              "      display:flex;\n",
              "      flex-wrap:wrap;\n",
              "      gap: 12px;\n",
              "    }\n",
              "\n",
              "    .colab-df-convert {\n",
              "      background-color: #E8F0FE;\n",
              "      border: none;\n",
              "      border-radius: 50%;\n",
              "      cursor: pointer;\n",
              "      display: none;\n",
              "      fill: #1967D2;\n",
              "      height: 32px;\n",
              "      padding: 0 0 0 0;\n",
              "      width: 32px;\n",
              "    }\n",
              "\n",
              "    .colab-df-convert:hover {\n",
              "      background-color: #E2EBFA;\n",
              "      box-shadow: 0px 1px 2px rgba(60, 64, 67, 0.3), 0px 1px 3px 1px rgba(60, 64, 67, 0.15);\n",
              "      fill: #174EA6;\n",
              "    }\n",
              "\n",
              "    [theme=dark] .colab-df-convert {\n",
              "      background-color: #3B4455;\n",
              "      fill: #D2E3FC;\n",
              "    }\n",
              "\n",
              "    [theme=dark] .colab-df-convert:hover {\n",
              "      background-color: #434B5C;\n",
              "      box-shadow: 0px 1px 3px 1px rgba(0, 0, 0, 0.15);\n",
              "      filter: drop-shadow(0px 1px 2px rgba(0, 0, 0, 0.3));\n",
              "      fill: #FFFFFF;\n",
              "    }\n",
              "  </style>\n",
              "\n",
              "      <script>\n",
              "        const buttonEl =\n",
              "          document.querySelector('#df-d47b6f57-6b31-4ced-a8c0-cab784ea8ba3 button.colab-df-convert');\n",
              "        buttonEl.style.display =\n",
              "          google.colab.kernel.accessAllowed ? 'block' : 'none';\n",
              "\n",
              "        async function convertToInteractive(key) {\n",
              "          const element = document.querySelector('#df-d47b6f57-6b31-4ced-a8c0-cab784ea8ba3');\n",
              "          const dataTable =\n",
              "            await google.colab.kernel.invokeFunction('convertToInteractive',\n",
              "                                                     [key], {});\n",
              "          if (!dataTable) return;\n",
              "\n",
              "          const docLinkHtml = 'Like what you see? Visit the ' +\n",
              "            '<a target=\"_blank\" href=https://colab.research.google.com/notebooks/data_table.ipynb>data table notebook</a>'\n",
              "            + ' to learn more about interactive tables.';\n",
              "          element.innerHTML = '';\n",
              "          dataTable['output_type'] = 'display_data';\n",
              "          await google.colab.output.renderOutput(dataTable, element);\n",
              "          const docLink = document.createElement('div');\n",
              "          docLink.innerHTML = docLinkHtml;\n",
              "          element.appendChild(docLink);\n",
              "        }\n",
              "      </script>\n",
              "    </div>\n",
              "  </div>\n",
              "  "
            ]
          },
          "metadata": {},
          "execution_count": 15
        }
      ]
    },
    {
      "cell_type": "markdown",
      "source": [
        "**3) visualization of Correlation**"
      ],
      "metadata": {
        "id": "cElpyV6JsQAE"
      }
    },
    {
      "cell_type": "code",
      "source": [
        "plt.figure(figsize = (8,8))\n",
        "sns.heatmap(correlation, cbar=True, square=True, fmt='.1f',annot=True, annot_kws={'size':8}, cmap='Blues')"
      ],
      "metadata": {
        "colab": {
          "base_uri": "https://localhost:8080/",
          "height": 488
        },
        "id": "bFkbfB1FsNy4",
        "outputId": "d8207804-c6ad-4c70-da25-c5f81984b720"
      },
      "execution_count": 16,
      "outputs": [
        {
          "output_type": "execute_result",
          "data": {
            "text/plain": [
              "<matplotlib.axes._subplots.AxesSubplot at 0x7fd102461bd0>"
            ]
          },
          "metadata": {},
          "execution_count": 16
        },
        {
          "output_type": "display_data",
          "data": {
            "text/plain": [
              "<Figure size 576x576 with 2 Axes>"
            ],
            "image/png": "[encoded data removed]"
          },
          "metadata": {
            "needs_background": "light"
          }
        }
      ]
    },
    {
      "cell_type": "markdown",
      "source": [
        "**4) Checking the Distribution of the GOLD Price**"
      ],
      "metadata": {
        "id": "tO1hgIcdsX_b"
      }
    },
    {
      "cell_type": "code",
      "source": [
        "sns.distplot(gold_data['GLD'],color='green')"
      ],
      "metadata": {
        "colab": {
          "base_uri": "https://localhost:8080/",
          "height": 301
        },
        "id": "0pNQoppZsS5Y",
        "outputId": "d44783de-59f3-4bc2-e2a0-5ec00b8ea2ed"
      },
      "execution_count": 17,
      "outputs": [
        {
          "output_type": "execute_result",
          "data": {
            "text/plain": [
              "<matplotlib.axes._subplots.AxesSubplot at 0x7fd101eeff90>"
            ]
          },
          "metadata": {},
          "execution_count": 17
        },
        {
          "output_type": "display_data",
          "data": {
            "text/plain": [
              "<Figure size 432x288 with 1 Axes>"
            ],
            "image/png": "[encoded data removed]"
          },
          "metadata": {
            "needs_background": "light"
          }
        }
      ]
    },
    {
      "cell_type": "code",
      "source": [
        "import plotly.express as px\n",
        "plt.figure(figsize=(7, 12))\n",
        "px.histogram(gold_data, x='GLD')"
      ],
      "metadata": {
        "colab": {
          "base_uri": "https://localhost:8080/",
          "height": 560
        },
        "id": "Y9O2OoCRsaxS",
        "outputId": "8fd0ab4b-56fc-4589-d020-2fdf99f5b2f6"
      },
      "execution_count": 18,
      "outputs": [
        {
          "output_type": "display_data",
          "data": {
            "text/html": [
              "<html>\n",
              "<head><meta charset=\"utf-8\" /></head>\n",
              "<body>\n",
              "    <div>            <script src=\"https://cdnjs.cloudflare.com/ajax/libs/mathjax/2.7.5/MathJax.js?config=TeX-AMS-MML_SVG\"></script><script type=\"text/javascript\">if (window.MathJax) {MathJax.Hub.Config({SVG: {font: \"STIX-Web\"}});}</script>                <script type=\"text/javascript\">window.PlotlyConfig = {MathJaxConfig: 'local'};</script>\n",
              "        <script src=\"https://cdn.plot.ly/plotly-2.8.3.min.js\"></script>                <div id=\"76a546ea-247c-4c7f-a03e-f413d698aadf\" class=\"plotly-graph-div\" style=\"height:525px; width:100%;\"></div>            <script type=\"text/javascript\">                                    window.PLOTLYENV=window.PLOTLYENV || {};                                    if (document.getElementById(\"76a546ea-247c-4c7f-a03e-f413d698aadf\")) {                    Plotly.newPlot(                        \"76a546ea-247c-4c7f-a03e-f413d698aadf\",                        [{\"alignmentgroup\":\"True\",\"bingroup\":\"x\",\"hovertemplate\":\"GLD=%{x}<br>count=%{y}<extra></extra>\",\"legendgroup\":\"\",\"marker\":{\"color\":\"#636efa\",\"pattern\":{\"shape\":\"\"}},\"name\":\"\",\"offsetgroup\":\"\",\"orientation\":\"v\",\"showlegend\":false,\"x\":[84.860001,85.57,85.129997,84.769997,86.779999,86.550003,88.25,88.580002,89.540001,87.989998,86.699997,86.5,87.419998,88.169998,87.889999,90.080002,90.300003,91.75,91.150002,92.059998,91.400002,89.349998,89.099998,87.68,88.949997,89.849998,91.0,91.330002,89.330002,89.440002,89.709999,89.150002,91.580002,93.239998,93.25,93.389999,92.739998,93.709999,94.779999,95.989998,96.18,97.239998,95.18,97.720001,96.5,96.089996,95.870003,95.989998,97.010002,98.339996,98.709999,99.169998,96.5,93.040001,89.910004,90.099998,92.730003,93.800003,93.459999,91.879997,86.860001,89.269997,89.419998,91.169998,90.349998,92.290001,91.769997,91.110001,91.660004,93.269997,92.559998,90.25,90.269997,89.220001,87.220001,87.690002,85.809998,83.989998,86.269997,86.629997,85.82,87.239998,86.989998,85.389999,85.199997,87.0,89.389999,90.900002,91.959999,90.980003,89.360001,89.139999,86.510002,87.959999,86.879997,86.650002,86.449997,87.989998,85.550003,87.019997,85.599998,87.010002,87.25,88.279999,88.419998,87.089996,87.470001,87.419998,90.610001,92.660004,93.169998,92.059998,91.230003,90.860001,91.5,93.529999,95.910004,96.169998,94.440002,94.220001,95.120003,93.059998,90.57,91.330002,91.730003,90.589996,89.519997,86.089996,80.93,81.230003,81.360001,82.18,79.199997,78.889999,78.389999,78.860001,76.489998,74.220001,73.080002,77.559998,76.790001,85.459999,82.800003,89.18,88.32,86.709999,86.449997,89.57,85.07,85.970001,82.330002,84.279999,87.269997,89.419998,89.900002,81.989998,82.199997,83.309998,79.290001,78.5,76.029999,71.709999,70.650002,72.18,73.790001,74.0,72.709999,71.339996,71.099998,75.480003,72.800003,72.220001,72.5,73.580002,72.050003,70.0,72.150002,73.300003,72.650002,72.510002,72.260002,73.449997,78.849998,80.910004,80.870003,80.379997,80.309998,75.650002,76.949997,76.18,75.5,74.519997,76.199997,76.330002,79.75,80.650002,80.809998,82.599998,84.459999,85.43,83.870003,82.629997,83.459999,82.629997,83.459999,85.599998,86.349998,85.900002,86.519997,86.230003,84.480003,85.129997,82.75,84.459999,83.919998,80.760002,80.879997,79.790001,80.389999,82.709999,84.519997,84.150002,84.580002,88.529999,88.949997,88.379997,87.419998,89.5,91.309998,88.839996,88.470001,89.18,90.120003,89.589996,88.32,90.209999,92.290001,93.169998,92.550003,95.449997,96.910004,95.769997,97.800003,97.730003,94.730003,93.150002,93.059998,92.629997,90.93,90.040001,88.989998,91.989998,92.290001,90.57,88.139999,89.220001,91.099998,91.300003,90.800003,90.040001,93.089996,94.349998,93.589996,92.080002,90.949997,91.980003,91.93,90.690002,89.980003,90.279999,91.029999,88.800003,85.269997,86.739998,86.610001,86.309998,87.879997,87.370003,87.5,85.809998,86.949997,86.889999,87.379997,88.800003,89.010002,87.75,88.330002,87.269997,88.639999,88.25,89.540001,89.440002,89.690002,90.699997,91.089996,91.029999,90.360001,90.959999,92.25,93.849998,93.760002,93.449997,94.239998,95.730003,96.360001,94.410004,96.230003,93.559998,93.830002,93.860001,93.699997,91.099998,91.93,92.349998,91.610001,90.540001,90.919998,91.449997,92.309998,92.040001,91.18,92.389999,91.25,90.760002,90.709999,89.269997,89.510002,90.190002,90.809998,92.239998,91.980003,93.279999,93.129997,93.440002,93.260002,93.709999,92.110001,91.199997,91.620003,93.870003,94.68,94.779999,94.599998,92.93,92.790001,92.949997,93.720001,91.610001,92.059998,92.529999,92.269997,92.339996,92.760002,92.790001,93.190002,93.400002,93.900002,96.190002,97.459999,97.43,97.080002,97.699997,97.959999,98.900002,99.910004,99.339996,98.360001,99.669998,98.830002,97.550003,97.050003,97.43,98.849998,97.889999,99.82,102.279999,102.360001,103.639999,103.559998,104.260002,104.18,102.860001,104.230003,103.419998,103.75,103.919998,101.860001,101.849998,100.730003,102.690002,102.529999,103.949997,106.459999,107.099998,106.980003,107.43,108.190002,108.389999,109.599998,108.209999,109.739998,111.629997,111.970001,112.25,112.300003,112.940002,114.290001,114.730003,116.620003,115.059998,115.639999,117.379997,119.18,118.699997,113.75,113.110001,110.949997,110.839996,110.82,109.32,110.239998,110.209999,111.589996,107.339996,108.949997,106.949997,106.169998,106.550003,108.360001,108.550003,107.470001,106.93,107.309998,109.800003,109.699997,111.510002,110.82,111.370003,112.849998,110.489998,111.540001,112.029999,110.860001,111.519997,108.940002,107.370003,107.169998,107.480003,107.559998,106.529999,106.480003,105.959999,108.349998,109.129997,108.699997,104.370003,104.68,104.040001,105.410004,105.120003,107.129997,107.040001,109.620003,109.25,109.980003,109.470001,109.07,107.889999,107.360001,108.309998,109.43,109.43,111.019997,111.629997,110.830002,110.809998,109.879997,109.720001,108.470001,108.599998,107.949997,108.360001,110.400002,109.589996,110.339996,108.279999,107.75,108.32,106.300003,106.779999,108.589996,108.75,107.970001,108.949997,110.260002,110.889999,111.029999,112.489998,112.650002,113.010002,112.690002,113.029999,113.650002,111.150002,111.459999,112.309998,111.839996,112.75,114.629997,114.309998,114.279999,115.730003,114.870003,115.089996,118.489998,117.57,120.660004,121.400002,120.559998,119.360001,119.489998,116.629997,115.839996,116.839996,117.360001,118.470001,118.690002,119.910004,119.779999,117.959999,121.489998,121.0,120.559998,118.970001,119.599998,120.989998,120.330002,121.900002,120.389999,121.449997,120.949997,121.300003,121.089996,121.269997,121.68,117.040001,116.510002,117.730003,117.209999,117.339996,118.360001,118.300003,118.230003,115.730003,116.650002,115.849998,116.860001,115.519997,113.510002,113.779999,114.290001,115.540001,115.989998,116.720001,116.980003,117.400002,117.730003,117.339996,118.769997,119.730003,119.75,120.220001,120.389999,119.779999,120.360001,121.360001,120.959999,120.910004,122.080002,121.690002,122.290001,122.699997,122.709999,121.559998,121.620003,124.019997,123.940002,124.629997,124.870003,126.010002,126.199997,126.300003,126.720001,127.849998,127.949997,127.910004,128.460007,130.990005,131.809998,130.369995,132.289993,131.960007,134.070007,134.75,134.279999,130.110001,131.320007,129.470001,130.850006,130.880005,129.520004,131.240005,131.919998,132.490005,131.570007,136.029999,136.380005,137.779999,135.589996,137.240005,137.660004,133.690002,132.419998,130.970001,130.380005,132.089996,132.199997,133.479996,134.410004,134.179993,133.110001,133.509995,135.419998,135.380005,135.199997,138.070007,139.110001,136.5,134.789993,135.369995,135.410004,136.050003,136.179993,134.699997,133.809998,134.199997,135.110001,135.320007,135.050003,134.660004,135.020004,137.220001,137.710007,137.029999,138.720001,138.0,134.75,134.369995,133.830002,133.580002,134.119995,134.910004,135.460007,134.050003,132.690002,133.429993,133.720001,131.199997,131.029999,130.360001,130.100006,131.160004,127.93,130.279999,129.869995,130.800003,130.449997,132.199997,131.660004,131.679993,133.139999,133.070007,132.850006,132.320007,132.949997,133.970001,134.100006,135.039993,135.410004,136.289993,137.509995,136.479996,137.380005,137.660004,140.029999,139.919998,138.089996,139.350006,139.720001,139.360001,139.410004,137.770004,138.220001,138.860001,136.270004,136.240005,136.970001,138.369995,139.139999,139.050003,140.339996,139.220001,139.259995,138.539993,138.210007,138.669998,139.860001,139.839996,142.050003,142.380005,142.509995,142.639999,141.610001,141.899994,143.809998,145.929993,145.929993,146.5,146.740005,146.869995,146.380005,149.199997,149.820007,150.410004,149.880005,147.729996,143.470001,147.380005,147.899994,146.539993,146.589996,145.369995,144.740005,145.600006,145.649994,147.830002,148.589996,148.580002,148.220001,149.639999,149.910004,149.5,150.479996,150.419998,149.809998,150.559998,147.770004,148.669998,149.119995,148.970001,150.029999,150.759995,150.990005,148.339996,145.729996,146.240005,147.179993,146.0,147.630005,148.910004,149.149994,151.589996,152.770004,154.139999,154.539993,156.570007,154.660004,156.020004,154.830002,157.339996,157.770004,157.190002,157.320007,157.720001,161.520004,161.490005,160.639999,167.119995,168.610001,174.580002,170.75,171.800003,173.919998,174.419998,177.720001,184.589996,177.669998,171.649994,172.360001,173.889999,179.100006,177.720001,177.869995,182.899994,177.080002,181.809998,176.669998,178.539993,177.210007,174.399994,173.309998,175.779999,173.589996,169.050003,157.580002,160.630005,156.220001,157.699997,160.960007,157.639999,159.460007,160.490005,163.270004,162.100006,163.259995,162.300003,162.619995,161.839996,159.869995,157.770004,161.020004,165.589996,167.399994,169.550003,167.339996,167.380005,169.059998,171.720001,170.850006,174.979996,173.529999,172.070007,171.139999,173.960007,173.199997,173.360001,171.509995,167.100006,167.619995,163.5,165.309998,164.830002,163.399994,166.630005,166.880005,170.130005,169.630005,169.820007,167.320007,168.179993,169.399994,165.979996,166.399994,161.990005,158.449997,152.889999,152.330002,155.229996,154.869995,156.979996,157.160004,156.039993,156.309998,154.910004,151.029999,150.339996,151.990005,155.919998,156.710007,157.779999,157.199997,156.5,158.639999,159.669998,160.380005,159.259995,160.5,161.600006,161.220001,162.070007,163.160004,162.009995,166.419998,167.270004,168.970001,168.029999,169.309998,169.559998,171.050003,167.639999,167.179993,169.699997,168.5,168.020004,167.139999,167.509995,167.119995,168.110001,168.0,167.350006,171.020004,172.940002,173.020004,172.229996,171.699997,173.490005,164.289993,166.610001,166.339996,165.649994,162.699997,163.630005,165.279999,166.380005,165.070007,162.300003,159.570007,161.080002,161.300003,161.589996,160.130005,160.210007,159.570007,161.529999,164.399994,163.240005,161.509995,161.279999,162.940002,159.889999,157.210007,158.309998,159.369995,161.100006,161.070007,162.699997,160.460007,160.25,159.309998,159.429993,159.070007,159.300003,159.619995,161.029999,161.880005,161.320007,160.589996,158.970001,159.080002,156.0,154.470001,154.770004,151.330002,149.740005,149.460007,152.800003,154.649994,152.080002,151.619995,151.410004,151.020004,151.910004,151.619995,157.320007,157.139999,157.210007,154.5,155.360001,156.460007,157.119995,157.75,157.929993,157.160004,155.970001,152.020004,153.759995,152.619995,152.830002,151.050003,155.089996,157.460007,155.679993,154.039993,152.149994,152.990005,152.589996,154.210007,153.470001,153.050003,153.380005,153.029999,153.520004,155.669998,156.770004,157.429993,156.490005,155.139999,154.130005,156.300003,156.279999,156.479996,156.990005,155.990005,155.130005,155.630005,156.559998,157.259995,158.830002,160.539993,161.889999,161.360001,161.639999,160.589996,160.520004,164.479996,164.309998,164.889999,167.289993,167.899994,167.919998,171.309998,170.399994,171.720001,171.740005,171.470001,171.050003,170.770004,169.809998,172.339996,172.289993,172.100006,172.410004,173.610001,172.050003,170.990005,170.839996,171.320007,168.350006,169.419998,169.539993,168.789993,167.580002,165.429993,164.860001,166.020004,166.830002,166.070007,162.600006,163.229996,166.300003,166.490005,167.990005,167.820007,167.449997,167.100006,167.139999,166.089996,165.880005,167.869995,167.389999,167.559998,169.610001,169.429993,168.710007,166.550003,167.179993,166.050003,166.130005,164.119995,164.5,165.160004,165.800003,165.649994,165.770004,164.369995,164.130005,164.440002,162.080002,161.690002,159.729996,160.330002,160.619995,160.779999,161.160004,160.539993,162.020004,163.169998,161.199997,160.440002,159.429993,160.559998,160.490005,161.979996,161.059998,161.539993,162.559998,162.649994,163.350006,163.089996,163.669998,163.210007,161.419998,160.649994,160.289993,160.990005,162.190002,161.199997,161.449997,162.0,161.960007,162.389999,161.839996,161.570007,159.699997,159.889999,159.050003,158.350006,155.759995,155.330002,151.440002,152.619995,152.970001,154.339996,156.220001,154.570007,153.0,152.440002,152.300003,152.380005,153.229996,152.690002,152.710007,152.990005,154.190002,153.660004,153.679993,154.0,155.380005,156.080002,155.369995,156.25,155.550003,155.240005,154.720001,155.360001,154.449997,154.669998,152.429993,150.729996,150.289993,152.160004,153.339996,150.75,151.050003,131.309998,132.800003,132.869995,134.300003,137.899994,136.880005,138.369995,141.630005,142.300003,142.770004,141.110001,141.919998,142.149994,140.380005,142.460007,140.809998,138.429993,137.809998,134.630005,134.089996,135.119995,132.880005,131.940002,134.610001,133.490005,134.830002,136.699997,136.509995,135.229996,135.520004,136.529999,133.940002,133.25,134.25,133.740005,133.770004,132.130005,130.589996,123.599998,123.93,123.470001,118.279999,115.940002,121.129997,120.050003,120.739998,119.510002,120.620003,120.949997,124.239998,124.18,124.889999,123.32,124.010002,128.839996,129.710007,127.480003,128.669998,128.470001,128.119995,127.959999,126.610001,125.699997,123.970001,124.150002,126.860001,129.130005,127.739998,129.0,131.690002,132.009995,132.449997,132.070007,132.809998,135.449997,136.75,136.710007,135.869995,136.419998,134.660004,132.199997,133.910004,131.740005,131.699997,127.669998,126.449997,126.5,132.009995,131.75,127.550003,127.660004,128.789993,127.790001,128.179993,124.589996,127.059998,127.18,127.400002,126.110001,124.269997,122.830002,123.730003,123.540001,127.419998,126.980003,129.339996,128.690002,129.899994,130.559998,129.770004,129.600006,127.739998,126.949997,126.809998,126.559998,127.199997,126.160004,124.279999,123.870003,122.449997,122.849998,124.269997,124.32,122.900002,122.949997,120.120003,119.940002,119.919998,120.459999,119.82,119.459999,120.699997,117.580002,117.959999,119.959999,118.300003,118.550003,119.720001,121.82,120.860001,118.290001,119.379997,119.690002,118.650002,117.610001,114.82,115.940002,115.57,116.099998,116.739998,117.120003,115.389999,116.120003,118.0,119.290001,119.5,118.82,118.120003,118.459999,120.260002,121.019997,119.889999,119.660004,119.790001,120.93,119.699997,119.190002,121.790001,122.290001,120.959999,120.949997,122.470001,119.769997,120.089996,121.32,120.989998,121.290001,121.239998,122.169998,122.919998,124.360001,124.43,125.489998,127.150002,127.400002,126.269997,127.599998,127.580002,128.990005,129.210007,128.110001,128.199997,127.620003,130.289993,128.679993,128.889999,130.169998,129.089996,129.130005,129.860001,131.759995,132.210007,133.100006,131.639999,130.619995,128.089996,127.860001,128.470001,126.18,126.410004,125.410004,124.589996,124.559998,123.610001,123.389999,124.32,123.919998,124.910004,126.089996,126.32,127.010002,127.849998,125.489998,125.540001,124.75,124.239998,123.779999,123.760002,124.559998,124.879997,124.860001,124.220001,123.800003,126.220001,125.980003,124.169998,124.169998,124.940002,124.599998,125.809998,124.769997,124.580002,124.690002,124.389999,124.669998,121.849998,121.199997,120.940002,119.699997,120.010002,119.760002,120.660004,120.650002,121.389999,121.410004,122.639999,122.419998,122.279999,122.669998,126.940002,126.849998,126.980003,126.989998,126.730003,128.039993,127.699997,127.699997,127.160004,127.019997,127.07,127.839996,128.539993,125.720001,124.529999,124.970001,127.089996,126.339996,125.739998,125.620003,124.349998,125.580002,125.199997,124.830002,123.389999,123.989998,123.870003,125.669998,126.18,125.959999,125.989998,126.199997,126.309998,124.959999,124.68,124.220001,122.879997,122.739998,123.349998,123.32,124.0,121.650002,122.150002,121.480003,120.730003,120.870003,120.260002,119.470001,118.639999,118.830002,117.540001,117.779999,116.849998,117.599998,117.050003,117.389999,117.029999,116.209999,116.769997,116.739998,116.029999,116.360001,117.470001,117.639999,118.519997,118.589996,118.989998,119.220001,119.800003,120.019997,119.339996,118.519997,118.059998,118.099998,116.410004,115.190002,112.660004,112.150002,112.220001,109.790001,109.879997,112.970001,110.459999,112.040001,111.5,111.669998,114.470001,114.050003,115.050003,113.68,114.860001,115.389999,115.110001,115.379997,115.160004,112.110001,116.580002,115.139999,116.330002,115.879997,114.43,115.779999,118.190002,117.959999,117.690002,117.410004,114.389999,114.949997,114.269997,115.150002,114.769997,112.550003,112.739998,112.769997,114.830002,113.669998,115.199997,113.580002,114.080002,115.800003,117.120003,116.43,115.940002,117.260002,118.559998,118.160004,117.970001,120.940002,122.519997,124.199997,124.230003,125.230003,124.230003,122.989998,124.400002,123.419998,120.760002,123.449997,122.419998,121.050003,121.580002,121.790001,118.639999,119.169998,118.470001,117.07,117.339996,117.980003,116.010002,116.339996,115.940002,115.279999,115.43,115.260002,115.699997,116.07,116.160004,115.68,115.470001,115.110001,115.0,111.860001,111.970001,111.419998,110.75,110.720001,110.879997,110.809998,110.209999,112.370003,112.290001,113.57,114.290001,114.57,114.730003,115.480003,115.059998,113.75,113.660004,115.599998,115.279999,116.690002,116.110001,115.470001,114.669998,115.139999,114.440002,115.43,115.029999,114.720001,115.379997,113.830002,114.660004,115.330002,116.330002,115.510002,113.470001,114.099998,114.419998,114.360001,113.419998,113.529999,114.5,116.550003,117.18,117.519997,115.889999,116.080002,115.690002,113.910004,113.889999,114.019997,114.0,114.459999,113.639999,112.839996,112.57,112.82,113.779999,113.260002,113.730003,113.32,113.849998,115.32,113.639999,112.889999,112.589996,112.440002,113.07,112.370003,111.980003,111.760002,112.059998,110.760002,111.089996,111.360001,110.989998,110.739998,110.160004,109.760002,105.699997,105.370003,104.800003,104.330002,104.860001,105.019997,105.169998,104.269997,104.099998,104.309998,103.93,104.389999,105.720001,106.260002,107.75,106.860001,107.129997,107.110001,108.550003,110.440002,110.529999,109.160004,107.669998,107.730003,108.82,109.199997,108.620003,107.839996,107.519997,106.129997,106.379997,106.220001,105.900002,107.309998,108.410004,107.790001,108.220001,110.489998,108.419998,107.980003,106.860001,106.730003,108.769997,109.860001,109.699997,109.139999,111.309998,111.860001,113.809998,113.290001,112.019997,112.730003,111.730003,111.690002,111.43,111.68,110.75,109.720001,109.300003,108.589996,106.980003,105.970001,105.639999,104.099998,104.400002,104.18,103.830002,103.849998,103.559998,103.709999,102.339996,102.43,103.559998,103.089996,102.260002,102.940002,102.459999,101.25,101.919998,102.279999,100.690002,101.760002,104.019997,102.669998,102.839996,102.639999,102.550003,103.110001,101.790001,101.519997,102.75,100.5,102.040001,103.150002,102.610001,102.309998,103.050003,102.269997,102.199997,101.419998,101.459999,102.889999,103.18,104.669998,106.150002,105.68,104.739998,104.209999,104.720001,103.019997,104.080002,103.980003,105.370003,105.489998,105.0,106.080002,107.290001,107.690002,106.540001,106.949997,108.050003,108.089996,109.25,110.57,112.32,113.830002,113.580002,114.459999,119.059998,118.360001,114.769997,115.480003,118.290001,117.580002,115.489998,117.220001,117.610001,117.919998,117.110001,118.639999,117.769997,118.68,120.730003,120.540001,121.139999,120.580002,119.580002,121.5,119.410004,117.870003,117.959999,120.589996,120.129997,119.800003,118.959999,119.309998,116.610001,116.330002,116.599998,118.760002,117.099998,117.639999,116.150002,117.660004,116.940002,118.610001,120.029999,120.050003,118.769997,117.110001,117.739998,119.580002,118.970001,119.419998,118.230003,118.699997,119.040001,121.290001,123.239998,122.959999,122.209999,122.07,120.650002,120.980003,122.120003,121.160004,121.800003,122.220001,120.099998,119.870003,119.370003,117.300003,116.980003,116.580002,116.059998,115.940002,115.669998,118.919998,118.82,120.580002,121.25,122.639999,122.769997,123.68,122.379997,123.209999,120.839996,120.900002,120.110001,126.68,125.32,125.839996,126.470001,129.470001,130.229996,129.740005,129.289993,127.150002,128.320007,127.330002,127.040001,127.209999,125.389999,127.300003,125.470001,126.0,128.029999,127.660004,129.220001,130.270004,129.649994,129.869995,127.440002,127.959999,128.559998,127.669998,127.839996,128.470001,128.5,129.110001,127.779999,127.760002,126.339996,126.230003,126.300003,125.029999,124.779999,125.290001,128.710007,128.270004,127.589996,126.589996,125.75,126.18,125.370003,125.32,125.440002,127.269997,127.57,127.550003,126.620003,126.220001,126.07,125.32,120.970001,120.779999,119.660004,120.160004,119.550003,119.739998,120.029999,119.68,120.419998,121.110001,120.739998,120.559998,121.470001,120.790001,121.010002,121.940002,122.730003,123.639999,124.300003,124.389999,122.150002,121.639999,121.559998,119.75,117.099998,116.110001,117.120003,116.769997,116.169998,115.150002,115.580002,115.540001,113.25,112.610001,113.800003,113.269997,111.75,111.540001,112.139999,111.540001,111.43,111.830002,111.57,110.400002,110.82,110.449997,108.830002,107.339996,108.050003,108.589996,107.790001,107.849998,107.589996,107.93,108.559998,108.860001,110.290001,109.610001,110.470001,110.860001,112.580002,111.75,112.669998,113.150002,113.5,113.910004,114.209999,115.849998,114.870003,114.769997,115.050003,115.790001,115.269997,114.32,113.260002,113.489998,113.970001,115.550003,115.199997,115.839996,116.129997,117.699997,117.459999,118.190002,117.290001,117.599998,116.800003,116.93,117.449997,118.080002,117.68,117.75,117.910004,118.940002,119.699997,119.120003,119.230003,119.059998,117.580002,117.510002,116.720001,115.779999,115.059998,114.470001,114.720001,114.739998,114.120003,116.25,116.730003,116.989998,117.510002,118.540001,118.830002,118.669998,118.860001,119.529999,119.040001,119.330002,118.470001,119.349998,119.620003,119.620003,119.18,119.459999,121.190002,122.019997,122.599998,122.239998,122.82,121.730003,121.959999,121.480003,120.25,120.839996,120.389999,119.669998,119.650002,117.980003,116.790001,116.75,116.050003,116.040001,116.5,117.139999,117.650002,119.790001,118.809998,119.900002,119.139999,119.610001,119.480003,120.139999,120.620003,120.720001,121.730003,123.099998,122.449997,121.650002,120.360001,120.480003,119.82,119.32,118.43,118.18,118.519997,118.919998,118.360001,118.809998,118.900002,118.32,116.089996,116.519997,116.470001,115.620003,116.029999,115.82,117.290001,118.110001,118.080002,118.239998,119.309998,118.919998,119.879997,119.790001,120.75,120.650002,120.400002,120.589996,119.510002,119.860001,121.309998,122.209999,121.919998,120.980003,121.870003,122.489998,122.760002,122.209999,122.669998,122.290001,124.690002,124.419998,124.360001,125.82,127.459999,126.809998,128.130005,126.190002,126.559998,125.610001,126.160004,124.360001,124.620003,123.620003,122.68,124.529999,123.139999,121.980003,122.209999,120.769997,120.830002,121.169998,120.519997,122.080002,122.400002,122.790001,122.889999,122.970001,122.129997,121.669998,122.389999,121.800003,121.330002,121.349998,120.330002,121.129997,120.669998,121.110001,121.190002,120.620003,121.650002,121.209999,121.629997,122.129997,121.129997,121.309998,121.559998,121.410004,121.309998,121.510002,122.629997,122.32,122.830002,122.809998,122.040001,121.099998,121.589996,121.18,120.32,120.07,118.489998,118.480003,118.010002,118.150002,119.169998,118.93,119.18,119.730003,119.82,120.139999,120.309998,120.940002,121.769997,122.230003,122.849998,123.650002,125.150002,124.82,125.459999,125.330002,125.309998,124.730003,125.029999,125.440002,126.959999,127.169998,126.139999,125.860001,126.419998,126.650002,127.279999,128.830002,127.970001,128.070007,127.349998,126.800003,127.650002,128.070007,126.389999,126.709999,125.379997,124.790001,124.980003,124.769997,125.370003,126.080002,128.229996,128.380005,127.959999,126.239998,125.660004,126.300003,126.139999,126.449997,125.129997,125.0,124.720001,125.389999,125.18,126.529999,125.720001,125.419998,125.540001,125.540001,125.779999,125.699997,124.900002,124.599998,124.870003,124.309998,126.480003,125.980003,127.610001,128.279999,127.489998,125.730003,125.790001,127.260002,126.300003,126.449997,125.800003,126.82,127.120003,128.110001,126.620003,127.629997,127.75,127.849998,127.599998,125.620003,126.230003,125.410004,124.970001,124.589996,123.709999,123.650002,124.279999,124.57,124.589996,124.330002,125.18,124.489998,122.5438],\"xaxis\":\"x\",\"yaxis\":\"y\",\"type\":\"histogram\"}],                        {\"template\":{\"data\":{\"bar\":[{\"error_x\":{\"color\":\"#2a3f5f\"},\"error_y\":{\"color\":\"#2a3f5f\"},\"marker\":{\"line\":{\"color\":\"#E5ECF6\",\"width\":0.5},\"pattern\":{\"fillmode\":\"overlay\",\"size\":10,\"solidity\":0.2}},\"type\":\"bar\"}],\"barpolar\":[{\"marker\":{\"line\":{\"color\":\"#E5ECF6\",\"width\":0.5},\"pattern\":{\"fillmode\":\"overlay\",\"size\":10,\"solidity\":0.2}},\"type\":\"barpolar\"}],\"carpet\":[{\"aaxis\":{\"endlinecolor\":\"#2a3f5f\",\"gridcolor\":\"white\",\"linecolor\":\"white\",\"minorgridcolor\":\"white\",\"startlinecolor\":\"#2a3f5f\"},\"baxis\":{\"endlinecolor\":\"#2a3f5f\",\"gridcolor\":\"white\",\"linecolor\":\"white\",\"minorgridcolor\":\"white\",\"startlinecolor\":\"#2a3f5f\"},\"type\":\"carpet\"}],\"choropleth\":[{\"colorbar\":{\"outlinewidth\":0,\"ticks\":\"\"},\"type\":\"choropleth\"}],\"contour\":[{\"colorbar\":{\"outlinewidth\":0,\"ticks\":\"\"},\"colorscale\":[[0.0,\"#0d0887\"],[0.1111111111111111,\"#46039f\"],[0.2222222222222222,\"#7201a8\"],[0.3333333333333333,\"#9c179e\"],[0.4444444444444444,\"#bd3786\"],[0.5555555555555556,\"#d8576b\"],[0.6666666666666666,\"#ed7953\"],[0.7777777777777778,\"#fb9f3a\"],[0.8888888888888888,\"#fdca26\"],[1.0,\"#f0f921\"]],\"type\":\"contour\"}],\"contourcarpet\":[{\"colorbar\":{\"outlinewidth\":0,\"ticks\":\"\"},\"type\":\"contourcarpet\"}],\"heatmap\":[{\"colorbar\":{\"outlinewidth\":0,\"ticks\":\"\"},\"colorscale\":[[0.0,\"#0d0887\"],[0.1111111111111111,\"#46039f\"],[0.2222222222222222,\"#7201a8\"],[0.3333333333333333,\"#9c179e\"],[0.4444444444444444,\"#bd3786\"],[0.5555555555555556,\"#d8576b\"],[0.6666666666666666,\"#ed7953\"],[0.7777777777777778,\"#fb9f3a\"],[0.8888888888888888,\"#fdca26\"],[1.0,\"#f0f921\"]],\"type\":\"heatmap\"}],\"heatmapgl\":[{\"colorbar\":{\"outlinewidth\":0,\"ticks\":\"\"},\"colorscale\":[[0.0,\"#0d0887\"],[0.1111111111111111,\"#46039f\"],[0.2222222222222222,\"#7201a8\"],[0.3333333333333333,\"#9c179e\"],[0.4444444444444444,\"#bd3786\"],[0.5555555555555556,\"#d8576b\"],[0.6666666666666666,\"#ed7953\"],[0.7777777777777778,\"#fb9f3a\"],[0.8888888888888888,\"#fdca26\"],[1.0,\"#f0f921\"]],\"type\":\"heatmapgl\"}],\"histogram\":[{\"marker\":{\"pattern\":{\"fillmode\":\"overlay\",\"size\":10,\"solidity\":0.2}},\"type\":\"histogram\"}],\"histogram2d\":[{\"colorbar\":{\"outlinewidth\":0,\"ticks\":\"\"},\"colorscale\":[[0.0,\"#0d0887\"],[0.1111111111111111,\"#46039f\"],[0.2222222222222222,\"#7201a8\"],[0.3333333333333333,\"#9c179e\"],[0.4444444444444444,\"#bd3786\"],[0.5555555555555556,\"#d8576b\"],[0.6666666666666666,\"#ed7953\"],[0.7777777777777778,\"#fb9f3a\"],[0.8888888888888888,\"#fdca26\"],[1.0,\"#f0f921\"]],\"type\":\"histogram2d\"}],\"histogram2dcontour\":[{\"colorbar\":{\"outlinewidth\":0,\"ticks\":\"\"},\"colorscale\":[[0.0,\"#0d0887\"],[0.1111111111111111,\"#46039f\"],[0.2222222222222222,\"#7201a8\"],[0.3333333333333333,\"#9c179e\"],[0.4444444444444444,\"#bd3786\"],[0.5555555555555556,\"#d8576b\"],[0.6666666666666666,\"#ed7953\"],[0.7777777777777778,\"#fb9f3a\"],[0.8888888888888888,\"#fdca26\"],[1.0,\"#f0f921\"]],\"type\":\"histogram2dcontour\"}],\"mesh3d\":[{\"colorbar\":{\"outlinewidth\":0,\"ticks\":\"\"},\"type\":\"mesh3d\"}],\"parcoords\":[{\"line\":{\"colorbar\":{\"outlinewidth\":0,\"ticks\":\"\"}},\"type\":\"parcoords\"}],\"pie\":[{\"automargin\":true,\"type\":\"pie\"}],\"scatter\":[{\"marker\":{\"colorbar\":{\"outlinewidth\":0,\"ticks\":\"\"}},\"type\":\"scatter\"}],\"scatter3d\":[{\"line\":{\"colorbar\":{\"outlinewidth\":0,\"ticks\":\"\"}},\"marker\":{\"colorbar\":{\"outlinewidth\":0,\"ticks\":\"\"}},\"type\":\"scatter3d\"}],\"scattercarpet\":[{\"marker\":{\"colorbar\":{\"outlinewidth\":0,\"ticks\":\"\"}},\"type\":\"scattercarpet\"}],\"scattergeo\":[{\"marker\":{\"colorbar\":{\"outlinewidth\":0,\"ticks\":\"\"}},\"type\":\"scattergeo\"}],\"scattergl\":[{\"marker\":{\"colorbar\":{\"outlinewidth\":0,\"ticks\":\"\"}},\"type\":\"scattergl\"}],\"scattermapbox\":[{\"marker\":{\"colorbar\":{\"outlinewidth\":0,\"ticks\":\"\"}},\"type\":\"scattermapbox\"}],\"scatterpolar\":[{\"marker\":{\"colorbar\":{\"outlinewidth\":0,\"ticks\":\"\"}},\"type\":\"scatterpolar\"}],\"scatterpolargl\":[{\"marker\":{\"colorbar\":{\"outlinewidth\":0,\"ticks\":\"\"}},\"type\":\"scatterpolargl\"}],\"scatterternary\":[{\"marker\":{\"colorbar\":{\"outlinewidth\":0,\"ticks\":\"\"}},\"type\":\"scatterternary\"}],\"surface\":[{\"colorbar\":{\"outlinewidth\":0,\"ticks\":\"\"},\"colorscale\":[[0.0,\"#0d0887\"],[0.1111111111111111,\"#46039f\"],[0.2222222222222222,\"#7201a8\"],[0.3333333333333333,\"#9c179e\"],[0.4444444444444444,\"#bd3786\"],[0.5555555555555556,\"#d8576b\"],[0.6666666666666666,\"#ed7953\"],[0.7777777777777778,\"#fb9f3a\"],[0.8888888888888888,\"#fdca26\"],[1.0,\"#f0f921\"]],\"type\":\"surface\"}],\"table\":[{\"cells\":{\"fill\":{\"color\":\"#EBF0F8\"},\"line\":{\"color\":\"white\"}},\"header\":{\"fill\":{\"color\":\"#C8D4E3\"},\"line\":{\"color\":\"white\"}},\"type\":\"table\"}]},\"layout\":{\"annotationdefaults\":{\"arrowcolor\":\"#2a3f5f\",\"arrowhead\":0,\"arrowwidth\":1},\"autotypenumbers\":\"strict\",\"coloraxis\":{\"colorbar\":{\"outlinewidth\":0,\"ticks\":\"\"}},\"colorscale\":{\"diverging\":[[0,\"#8e0152\"],[0.1,\"#c51b7d\"],[0.2,\"#de77ae\"],[0.3,\"#f1b6da\"],[0.4,\"#fde0ef\"],[0.5,\"#f7f7f7\"],[0.6,\"#e6f5d0\"],[0.7,\"#b8e186\"],[0.8,\"#7fbc41\"],[0.9,\"#4d9221\"],[1,\"#276419\"]],\"sequential\":[[0.0,\"#0d0887\"],[0.1111111111111111,\"#46039f\"],[0.2222222222222222,\"#7201a8\"],[0.3333333333333333,\"#9c179e\"],[0.4444444444444444,\"#bd3786\"],[0.5555555555555556,\"#d8576b\"],[0.6666666666666666,\"#ed7953\"],[0.7777777777777778,\"#fb9f3a\"],[0.8888888888888888,\"#fdca26\"],[1.0,\"#f0f921\"]],\"sequentialminus\":[[0.0,\"#0d0887\"],[0.1111111111111111,\"#46039f\"],[0.2222222222222222,\"#7201a8\"],[0.3333333333333333,\"#9c179e\"],[0.4444444444444444,\"#bd3786\"],[0.5555555555555556,\"#d8576b\"],[0.6666666666666666,\"#ed7953\"],[0.7777777777777778,\"#fb9f3a\"],[0.8888888888888888,\"#fdca26\"],[1.0,\"#f0f921\"]]},\"colorway\":[\"#636efa\",\"#EF553B\",\"#00cc96\",\"#ab63fa\",\"#FFA15A\",\"#19d3f3\",\"#FF6692\",\"#B6E880\",\"#FF97FF\",\"#FECB52\"],\"font\":{\"color\":\"#2a3f5f\"},\"geo\":{\"bgcolor\":\"white\",\"lakecolor\":\"white\",\"landcolor\":\"#E5ECF6\",\"showlakes\":true,\"showland\":true,\"subunitcolor\":\"white\"},\"hoverlabel\":{\"align\":\"left\"},\"hovermode\":\"closest\",\"mapbox\":{\"style\":\"light\"},\"paper_bgcolor\":\"white\",\"plot_bgcolor\":\"#E5ECF6\",\"polar\":{\"angularaxis\":{\"gridcolor\":\"white\",\"linecolor\":\"white\",\"ticks\":\"\"},\"bgcolor\":\"#E5ECF6\",\"radialaxis\":{\"gridcolor\":\"white\",\"linecolor\":\"white\",\"ticks\":\"\"}},\"scene\":{\"xaxis\":{\"backgroundcolor\":\"#E5ECF6\",\"gridcolor\":\"white\",\"gridwidth\":2,\"linecolor\":\"white\",\"showbackground\":true,\"ticks\":\"\",\"zerolinecolor\":\"white\"},\"yaxis\":{\"backgroundcolor\":\"#E5ECF6\",\"gridcolor\":\"white\",\"gridwidth\":2,\"linecolor\":\"white\",\"showbackground\":true,\"ticks\":\"\",\"zerolinecolor\":\"white\"},\"zaxis\":{\"backgroundcolor\":\"#E5ECF6\",\"gridcolor\":\"white\",\"gridwidth\":2,\"linecolor\":\"white\",\"showbackground\":true,\"ticks\":\"\",\"zerolinecolor\":\"white\"}},\"shapedefaults\":{\"line\":{\"color\":\"#2a3f5f\"}},\"ternary\":{\"aaxis\":{\"gridcolor\":\"white\",\"linecolor\":\"white\",\"ticks\":\"\"},\"baxis\":{\"gridcolor\":\"white\",\"linecolor\":\"white\",\"ticks\":\"\"},\"bgcolor\":\"#E5ECF6\",\"caxis\":{\"gridcolor\":\"white\",\"linecolor\":\"white\",\"ticks\":\"\"}},\"title\":{\"x\":0.05},\"xaxis\":{\"automargin\":true,\"gridcolor\":\"white\",\"linecolor\":\"white\",\"ticks\":\"\",\"title\":{\"standoff\":15},\"zerolinecolor\":\"white\",\"zerolinewidth\":2},\"yaxis\":{\"automargin\":true,\"gridcolor\":\"white\",\"linecolor\":\"white\",\"ticks\":\"\",\"title\":{\"standoff\":15},\"zerolinecolor\":\"white\",\"zerolinewidth\":2}}},\"xaxis\":{\"anchor\":\"y\",\"domain\":[0.0,1.0],\"title\":{\"text\":\"GLD\"}},\"yaxis\":{\"anchor\":\"x\",\"domain\":[0.0,1.0],\"title\":{\"text\":\"count\"}},\"legend\":{\"tracegroupgap\":0},\"margin\":{\"t\":60},\"barmode\":\"relative\"},                        {\"responsive\": true}                    ).then(function(){\n",
              "                            \n",
              "var gd = document.getElementById('76a546ea-247c-4c7f-a03e-f413d698aadf');\n",
              "var x = new MutationObserver(function (mutations, observer) {{\n",
              "        var display = window.getComputedStyle(gd).display;\n",
              "        if (!display || display === 'none') {{\n",
              "            console.log([gd, 'removed!']);\n",
              "            Plotly.purge(gd);\n",
              "            observer.disconnect();\n",
              "        }}\n",
              "}});\n",
              "\n",
              "// Listen for the removal of the full notebook cells\n",
              "var notebookContainer = gd.closest('#notebook-container');\n",
              "if (notebookContainer) {{\n",
              "    x.observe(notebookContainer, {childList: true});\n",
              "}}\n",
              "\n",
              "// Listen for the clearing of the current output cell\n",
              "var outputEl = gd.closest('.output');\n",
              "if (outputEl) {{\n",
              "    x.observe(outputEl, {childList: true});\n",
              "}}\n",
              "\n",
              "                        })                };                            </script>        </div>\n",
              "</body>\n",
              "</html>"
            ]
          },
          "metadata": {}
        },
        {
          "output_type": "display_data",
          "data": {
            "text/plain": [
              "<Figure size 504x864 with 0 Axes>"
            ]
          },
          "metadata": {}
        }
      ]
    },
    {
      "cell_type": "markdown",
      "source": [
        "# **5) Train and Test Split**"
      ],
      "metadata": {
        "id": "qNsKKm1hsfMJ"
      }
    },
    {
      "cell_type": "code",
      "source": [
        "X = gold_data.drop(['Date','GLD'],axis=1)\n",
        "y = gold_data['GLD']"
      ],
      "metadata": {
        "id": "nRnMbShiscvO"
      },
      "execution_count": 19,
      "outputs": []
    },
    {
      "cell_type": "code",
      "source": [
        "from sklearn.model_selection import train_test_split\n",
        "X_train,X_test,y_train,y_test = train_test_split(X,y,test_size=0.25,random_state=7)"
      ],
      "metadata": {
        "id": "BGJVELPGshoH"
      },
      "execution_count": 20,
      "outputs": []
    },
    {
      "cell_type": "markdown",
      "source": [
        "## **6) Feature Scaling**"
      ],
      "metadata": {
        "id": "oLcH8O6ism8c"
      }
    },
    {
      "cell_type": "code",
      "source": [
        "from sklearn.preprocessing import StandardScaler\n",
        "scaler = StandardScaler()\n",
        "scaler.fit_transform(X_train)\n",
        "scaler.transform(X_test)"
      ],
      "metadata": {
        "colab": {
          "base_uri": "https://localhost:8080/"
        },
        "id": "MW_9OzuiskLX",
        "outputId": "5e2e6562-ac03-44e2-9a34-dea1dd0cb95a"
      },
      "execution_count": null,
      "outputs": [
        {
          "output_type": "execute_result",
          "data": {
            "text/plain": [
              "array([[ 0.55120003, -1.12470636, -0.91100381, -1.42834991],\n",
              "       [ 0.85820907, -0.85231429, -0.86032652, -1.45403107],\n",
              "       [-0.86244496,  0.21953336,  1.11186469,  0.1639198 ],\n",
              "       ...,\n",
              "       [-0.53187188,  3.39811599, -0.48151361,  2.09890824],\n",
              "       [ 0.46734974,  0.2392792 , -0.18040602,  0.70962355],\n",
              "       [ 1.76805942, -1.06293716, -0.58441681, -0.92216496]])"
            ]
          },
          "metadata": {},
          "execution_count": 18
        }
      ]
    },
    {
      "cell_type": "markdown",
      "source": [
        "# **Build a Model :**"
      ],
      "metadata": {
        "id": "ave9oUbls1e0"
      }
    },
    {
      "cell_type": "markdown",
      "source": [
        "**Random Forest Regressor:**"
      ],
      "metadata": {
        "id": "ckpFodQls4QN"
      }
    },
    {
      "cell_type": "code",
      "source": [
        "from sklearn.ensemble import RandomForestRegressor\n",
        "RF = RandomForestRegressor(n_estimators=100,max_depth=15,max_features=\"sqrt\")\n",
        "RF.fit(X_train,y_train)"
      ],
      "metadata": {
        "colab": {
          "base_uri": "https://localhost:8080/"
        },
        "id": "_Au-chhzsru6",
        "outputId": "6e5a744d-9786-41b4-b35e-093faf8bb7ed"
      },
      "execution_count": 24,
      "outputs": [
        {
          "output_type": "execute_result",
          "data": {
            "text/plain": [
              "RandomForestRegressor(max_depth=15, max_features='sqrt')"
            ]
          },
          "metadata": {},
          "execution_count": 24
        }
      ]
    },
    {
      "cell_type": "code",
      "source": [
        "from sklearn.model_selection import cross_val_score\n",
        "\n",
        "for depth in range(1,16):\n",
        "  RF = RandomForestRegressor(max_depth=depth)\n",
        "  RF.fit(X_train, y_train) \n",
        "  trainAccuracy = metrics.r2_score(y_train, RF.predict(X_train)) \n",
        "  RF = RandomForestRegressor(max_depth=depth) \n",
        "  valAccuracy = cross_val_score(RF, X_train, y_train, cv=10) \n",
        "  print(\"Depth  : \", depth, \" Training Accuracy : \", trainAccuracy, \" Cross val score : \" ,np.mean(valAccuracy))"
      ],
      "metadata": {
        "colab": {
          "base_uri": "https://localhost:8080/"
        },
        "id": "20mwNGBOczHz",
        "outputId": "52f66b7f-1e79-42bf-8ac0-e050a5bc36ce"
      },
      "execution_count": 23,
      "outputs": [
        {
          "output_type": "stream",
          "name": "stdout",
          "text": [
            "Depth  :  1  Training Accuracy :  0.6550443838066711  Cross val score :  0.6470009152599616\n",
            "Depth  :  2  Training Accuracy :  0.8209464903121282  Cross val score :  0.8154841179786827\n",
            "Depth  :  3  Training Accuracy :  0.906577803005108  Cross val score :  0.8951574932230428\n",
            "Depth  :  4  Training Accuracy :  0.9601752594582105  Cross val score :  0.9522466365278426\n",
            "Depth  :  5  Training Accuracy :  0.9765836100364769  Cross val score :  0.9693640926032032\n",
            "Depth  :  6  Training Accuracy :  0.9898221806826434  Cross val score :  0.9816854611347174\n",
            "Depth  :  7  Training Accuracy :  0.9943546321147387  Cross val score :  0.985537654346834\n",
            "Depth  :  8  Training Accuracy :  0.9966123051923644  Cross val score :  0.9874849845746445\n",
            "Depth  :  9  Training Accuracy :  0.9975355362808239  Cross val score :  0.9884875510811046\n",
            "Depth  :  10  Training Accuracy :  0.9980365611361184  Cross val score :  0.98850987563634\n",
            "Depth  :  11  Training Accuracy :  0.9982334100826978  Cross val score :  0.9890782695964895\n",
            "Depth  :  12  Training Accuracy :  0.9984787681225152  Cross val score :  0.9891622061486587\n",
            "Depth  :  13  Training Accuracy :  0.9985760601247261  Cross val score :  0.9892081382277376\n",
            "Depth  :  14  Training Accuracy :  0.9985842692211269  Cross val score :  0.9888086035029591\n",
            "Depth  :  15  Training Accuracy :  0.9985610434677585  Cross val score :  0.9891261997938579\n"
          ]
        }
      ]
    },
    {
      "cell_type": "markdown",
      "source": [
        "# **8) Making Prediction**"
      ],
      "metadata": {
        "id": "63v9jmXJtIZE"
      }
    },
    {
      "cell_type": "code",
      "source": [
        "RF.predict([[1447.160034,77.309998,15.180,1.557099]])"
      ],
      "metadata": {
        "colab": {
          "base_uri": "https://localhost:8080/"
        },
        "id": "iOdummVFs8RR",
        "outputId": "d09ec119-6d85-4dd2-cdb7-683b47f244f4"
      },
      "execution_count": 25,
      "outputs": [
        {
          "output_type": "execute_result",
          "data": {
            "text/plain": [
              "array([85.9176995])"
            ]
          },
          "metadata": {},
          "execution_count": 25
        }
      ]
    },
    {
      "cell_type": "markdown",
      "source": [
        "# **9) Compare Actual and Predicted Scores**"
      ],
      "metadata": {
        "id": "DPMeOMSYtN2N"
      }
    },
    {
      "cell_type": "code",
      "source": [
        "y_pred = RF.predict(X_test)\n",
        "y_pred"
      ],
      "metadata": {
        "colab": {
          "base_uri": "https://localhost:8080/"
        },
        "id": "wacXxeIHtLgz",
        "outputId": "0b61f159-b3ab-445b-e2cd-72a35851d454"
      },
      "execution_count": 26,
      "outputs": [
        {
          "output_type": "execute_result",
          "data": {
            "text/plain": [
              "array([106.64150084, 104.69186596, 146.59850094, 116.86613344,\n",
              "       155.16760107, 126.82476806, 146.25865766, 146.4010328 ,\n",
              "       122.06467683, 121.65066237, 118.91510018, 133.13231802,\n",
              "        85.47639934,  92.6025294 , 119.84254535, 160.65929793,\n",
              "       118.64506815, 115.52845157, 125.38084795, 107.09881944,\n",
              "       161.61463902, 122.67089918, 161.5728183 , 123.44413804,\n",
              "       120.45843027, 168.76001858, 139.55279033, 119.95308873,\n",
              "        92.58099984, 121.77321879,  93.81200156, 160.45841872,\n",
              "       113.63687278, 151.8925016 ,  97.23291279, 156.60938869,\n",
              "       117.8565437 , 105.36527561, 121.09150042, 143.1378986 ,\n",
              "       159.43528914,  80.5790011 , 114.98179037, 102.352371  ,\n",
              "        90.64583969, 176.82320065, 125.43686512,  89.72975147,\n",
              "       107.77560827, 128.32569191, 126.51728782, 128.51628516,\n",
              "        89.75649956, 120.34182472, 140.09599029, 152.61143258,\n",
              "       123.72568432, 126.67642084, 125.5732412 ,  95.38949955,\n",
              "       119.78837291, 124.79901932, 124.24976458, 108.79326651,\n",
              "       120.38864604,  80.19220032, 118.53262066, 124.75370168,\n",
              "       134.76648832, 118.87400841, 127.85074568,  85.06919994,\n",
              "       135.79530767, 114.78995848, 167.97569861, 115.16807552,\n",
              "        89.71662335,  87.98057038, 150.70114363, 121.12723617,\n",
              "       114.91893569, 110.9964321 , 140.76036183, 111.18207867,\n",
              "       106.09601722, 125.75521105, 155.34074965,  91.44706705,\n",
              "       120.31041158,  88.44759988, 160.86327301, 128.28348588,\n",
              "       117.48352511, 107.12000155, 126.12966989, 102.90010952,\n",
              "       161.37952434, 126.19348937, 126.88041286,  87.62132204,\n",
              "       107.80180187, 119.38496056, 114.29701482, 135.37228214,\n",
              "        95.28400072, 118.74785499,  89.31159898,  81.12690004,\n",
              "        84.39419954, 127.67720821,  88.02119962, 115.81923305,\n",
              "       117.20572406, 117.8100068 , 113.26205128, 126.17776682,\n",
              "       117.07091837, 166.55732373, 118.00439321,  91.66540077,\n",
              "       134.96084535, 124.3313541 , 114.68930547, 158.01879873,\n",
              "       108.3897936 , 123.83399315, 172.42329812, 118.10555931,\n",
              "       121.37612742, 109.28730392, 117.7619444 , 114.40497471,\n",
              "       105.46440052,  90.2261989 , 109.43699059, 135.43310736,\n",
              "       118.69414973, 116.89287694, 119.96097338,  95.84299898,\n",
              "       117.75926611, 106.19472999, 126.70917345, 134.37793219,\n",
              "       118.56410927, 138.11527934, 146.83670187, 128.98453398,\n",
              "       109.13108693, 127.10494269, 111.81797568, 114.41348142,\n",
              "        82.88589839, 165.50560211, 135.3858019 , 106.79604909,\n",
              "       120.34568075, 156.11369621, 125.80229331, 167.48207746,\n",
              "       121.7891734 , 112.77685755, 126.8269738 , 117.25559567,\n",
              "       118.81996703, 109.64408607, 121.03680182, 122.81705781,\n",
              "       140.98176092, 110.96036063, 114.88591288, 125.97129905,\n",
              "       127.39998391, 117.42923219, 108.89467451,  89.86380011,\n",
              "       108.427102  ,  84.62709908, 102.11219852, 115.00815888,\n",
              "       115.54610913, 133.18296796, 152.33817668, 127.42758231,\n",
              "       166.87521341, 138.07439837, 108.23257975, 102.79662289,\n",
              "        92.99757039, 149.3793442 , 153.22886992, 148.25040185,\n",
              "       166.98188584, 111.64116807, 163.55919982, 120.39306   ,\n",
              "       125.23782553,  93.57269934,  73.89700114, 160.9731181 ,\n",
              "       119.3020099 , 147.50174172, 108.90103357, 121.27933025,\n",
              "       107.81597481, 174.96243165, 117.89249869,  87.42464949,\n",
              "       116.54450112, 118.39676755, 162.51499934, 163.80404742,\n",
              "        92.71509885, 127.58300804, 166.08490166, 119.4306071 ,\n",
              "        93.91810096, 153.61502135, 104.40540077, 121.24302862,\n",
              "       149.87873751, 151.47647238, 136.9046173 , 162.22287155,\n",
              "       136.75466036, 153.97720493,  78.82629951, 143.54033465,\n",
              "        97.00449837, 115.5587373 ,  83.44160024, 163.21073209,\n",
              "        87.28945952, 124.59987748, 134.1886752 , 103.36791204,\n",
              "       113.25172764, 174.34729962, 125.46663741, 167.86093015,\n",
              "       171.53174172, 117.21147932, 160.6472663 , 104.56029915,\n",
              "       115.54288141,  89.05010053, 125.91253717, 109.1395867 ,\n",
              "       127.32068995, 137.16354827, 125.9881887 , 132.58205712,\n",
              "       167.34713709, 121.61809073, 132.37547158, 117.02871647,\n",
              "        89.91740131, 118.88048776,  89.4260992 , 142.14846834,\n",
              "       105.40770001, 154.08165036, 109.64740807,  72.80890077,\n",
              "       120.94990725, 152.59559498, 112.56443325, 123.36959808,\n",
              "       114.22941288, 102.51609958, 121.11835358, 130.15786813,\n",
              "       116.06582311, 117.58202242, 113.6752366 , 170.51438958,\n",
              "       117.23030661, 121.45729868, 118.43583305, 132.15034283,\n",
              "       127.2586369 ,  91.57726528, 122.34539304,  76.86590016,\n",
              "       161.3621013 , 120.44240301, 131.80645616, 107.13344924,\n",
              "       154.60650525, 129.72891855, 119.17603783, 161.28290361,\n",
              "       121.16614024, 105.5076002 ,  84.64309869, 155.11761499,\n",
              "       119.95985052, 120.67992427, 131.75632511, 122.59926695,\n",
              "        94.5467988 , 124.1999211 , 151.24661416, 167.58011869,\n",
              "       138.097758  , 121.50645524, 119.97611895, 127.58929965,\n",
              "       146.8837416 , 126.77160176, 110.13542937, 121.92696952,\n",
              "       121.9841914 , 108.09625823, 124.84751064, 160.50751542,\n",
              "       165.38050022, 120.54150718,  73.08400128,  90.40145645,\n",
              "       126.42407016, 114.64810965, 107.2841665 ,  99.94790004,\n",
              "       112.68002744, 125.35208439, 107.60330881, 112.12942847,\n",
              "       123.13799458, 121.81910364, 151.46921463, 177.05689855,\n",
              "       119.13492993, 162.21676297, 135.10580573,  87.96331571,\n",
              "       117.97817966, 159.04953785, 171.43239116, 127.08363768,\n",
              "       107.72781745, 108.45590127, 134.94259762,  96.29820224,\n",
              "       125.89348464, 159.97464082, 114.87378814, 121.2481191 ,\n",
              "       117.72847906, 125.21084153,  93.04633546, 121.20104212,\n",
              "       127.99742184, 128.78340725, 116.71300054, 120.15126153,\n",
              "        91.77389965, 104.15292993, 124.66360535, 122.98445186,\n",
              "        88.33839929, 149.91139   , 109.47967312, 112.76308497,\n",
              "       124.36627392,  86.58919981, 120.41480764,  88.54569354,\n",
              "       158.43435165, 127.83326878, 164.78509899, 154.01281459,\n",
              "       127.93263684, 127.53900423,  89.44033366,  93.55379865,\n",
              "       152.8073037 , 162.16008932, 164.75733585, 139.27711539,\n",
              "       120.97161408, 118.16822841, 156.98354926,  93.96779935,\n",
              "       118.56757751,  94.10718482, 146.65305062, 100.95139905,\n",
              "       132.60281748, 123.274903  , 119.05806367,  88.28619938,\n",
              "       135.17243945, 119.25410357, 104.13420082, 147.82205865,\n",
              "       154.84965518, 125.32603455, 116.7239234 , 102.66722299,\n",
              "       108.77483817, 141.84421997,  92.91448986,  75.8017996 ,\n",
              "       163.61813003, 152.56122396, 109.50394555,  90.22629907,\n",
              "       117.6181772 , 110.68448305, 148.18599455, 110.72968249,\n",
              "       113.31696092, 113.97184653, 118.20890091, 119.22369945,\n",
              "       151.74263853,  92.4827997 , 129.67100098, 112.86820844,\n",
              "       126.50774458, 122.72128126, 149.60917228, 127.62249059,\n",
              "       115.14625381, 125.83633249, 124.36803805,  93.75280117,\n",
              "       141.69806231, 100.63929972, 120.25113301, 110.30107781,\n",
              "        75.47609913, 124.86358588, 128.09385312, 117.80495377,\n",
              "       118.36398031, 125.49323138, 109.63914836, 117.17996633,\n",
              "        82.3472994 , 122.81061744,  99.93269988, 112.05416216,\n",
              "       163.21471736, 117.88456843, 123.58158993, 141.63752985,\n",
              "       127.27271423, 108.91547482,  77.33430227, 147.66644465,\n",
              "       106.79915553,  74.5159003 , 113.39582531, 170.87399073,\n",
              "       170.61620796, 131.32574843, 108.40666168,  91.66264797,\n",
              "        99.21539988, 131.05271162, 172.42869737, 116.04586524,\n",
              "       108.73638465, 102.30601151,  84.99860015, 105.92354999,\n",
              "       119.14990625, 105.36899155, 131.93044666, 122.23906454,\n",
              "       150.93384547, 124.0388357 ,  95.92760168, 111.59739962,\n",
              "       112.88420365, 107.66055514, 146.40753406, 149.01766615,\n",
              "       108.43124407, 119.73518399, 125.09316976, 121.8229101 ,\n",
              "       159.25384172, 112.74071518, 165.59299626, 108.28107904,\n",
              "       171.36646433, 119.12119745, 170.7302088 , 106.20560098,\n",
              "       126.98863702, 131.17041149, 117.75043613,  77.83310072,\n",
              "       126.13448863, 108.09128415, 108.37924539, 126.83710589,\n",
              "       127.61670524, 134.46364866, 160.01029714,  84.28969987,\n",
              "       126.60355764, 112.46289923, 125.50915183, 115.48309138,\n",
              "       144.00217401, 125.97652939, 108.55751094, 168.90391951,\n",
              "       150.30204522, 123.19262819, 134.82155768, 154.61801477,\n",
              "       119.05156052, 117.8691131 , 118.64634654, 119.24040595,\n",
              "       151.75385234, 115.91894538, 153.32805718, 145.44261712,\n",
              "        85.32209968, 128.30306486, 154.89684693, 155.42720959,\n",
              "       122.28573462, 120.49117986, 127.20496683, 148.72346423,\n",
              "       114.46895496, 104.57289852,  92.30510121, 118.24484003,\n",
              "       124.97029736, 108.78984611, 109.27927457, 125.20042901,\n",
              "        92.72297938, 124.54571232, 119.49869604, 119.37510235,\n",
              "       120.35362313, 125.68242249, 105.1379165 , 120.36708843,\n",
              "       111.93959868, 112.44577793,  83.6832999 , 151.32290037,\n",
              "       167.24255452, 118.15900553, 133.10426803, 125.25595198,\n",
              "       122.86709861, 133.02482836, 128.05991172, 114.76851165,\n",
              "        91.82546588, 119.8852539 , 118.83114471,  91.31430097,\n",
              "       163.20898298, 154.51759709, 121.41059386, 126.20713935,\n",
              "       125.32212599, 159.65108277,  87.83244857, 124.23987226,\n",
              "       121.0621482 ])"
            ]
          },
          "metadata": {},
          "execution_count": 26
        }
      ]
    },
    {
      "cell_type": "code",
      "source": [
        "df = pd.DataFrame({\"Actual\": y_test,\"Prediction\" :y_pred})\n",
        "df"
      ],
      "metadata": {
        "colab": {
          "base_uri": "https://localhost:8080/",
          "height": 423
        },
        "id": "Ewl_j9z1tQ9B",
        "outputId": "b26ecd9a-85ba-4145-e86b-3e45e105fb75"
      },
      "execution_count": 27,
      "outputs": [
        {
          "output_type": "execute_result",
          "data": {
            "text/plain": [
              "          Actual  Prediction\n",
              "1782  106.949997  106.641501\n",
              "1673  103.930000  104.691866\n",
              "868   154.869995  146.598501\n",
              "2035  116.730003  116.866133\n",
              "961   154.770004  155.167601\n",
              "...          ...         ...\n",
              "1909  124.779999  125.322126\n",
              "858   167.320007  159.651083\n",
              "95     86.650002   87.832449\n",
              "1401  124.940002  124.239872\n",
              "2162  121.129997  121.062148\n",
              "\n",
              "[573 rows x 2 columns]"
            ],
            "text/html": [
              "\n",
              "  <div id=\"df-55ad8dcc-e347-408c-a678-b7adfeeb14ec\">\n",
              "    <div class=\"colab-df-container\">\n",
              "      <div>\n",
              "<style scoped>\n",
              "    .dataframe tbody tr th:only-of-type {\n",
              "        vertical-align: middle;\n",
              "    }\n",
              "\n",
              "    .dataframe tbody tr th {\n",
              "        vertical-align: top;\n",
              "    }\n",
              "\n",
              "    .dataframe thead th {\n",
              "        text-align: right;\n",
              "    }\n",
              "</style>\n",
              "<table border=\"1\" class=\"dataframe\">\n",
              "  <thead>\n",
              "    <tr style=\"text-align: right;\">\n",
              "      <th></th>\n",
              "      <th>Actual</th>\n",
              "      <th>Prediction</th>\n",
              "    </tr>\n",
              "  </thead>\n",
              "  <tbody>\n",
              "    <tr>\n",
              "      <th>1782</th>\n",
              "      <td>106.949997</td>\n",
              "      <td>106.641501</td>\n",
              "    </tr>\n",
              "    <tr>\n",
              "      <th>1673</th>\n",
              "      <td>103.930000</td>\n",
              "      <td>104.691866</td>\n",
              "    </tr>\n",
              "    <tr>\n",
              "      <th>868</th>\n",
              "      <td>154.869995</td>\n",
              "      <td>146.598501</td>\n",
              "    </tr>\n",
              "    <tr>\n",
              "      <th>2035</th>\n",
              "      <td>116.730003</td>\n",
              "      <td>116.866133</td>\n",
              "    </tr>\n",
              "    <tr>\n",
              "      <th>961</th>\n",
              "      <td>154.770004</td>\n",
              "      <td>155.167601</td>\n",
              "    </tr>\n",
              "    <tr>\n",
              "      <th>...</th>\n",
              "      <td>...</td>\n",
              "      <td>...</td>\n",
              "    </tr>\n",
              "    <tr>\n",
              "      <th>1909</th>\n",
              "      <td>124.779999</td>\n",
              "      <td>125.322126</td>\n",
              "    </tr>\n",
              "    <tr>\n",
              "      <th>858</th>\n",
              "      <td>167.320007</td>\n",
              "      <td>159.651083</td>\n",
              "    </tr>\n",
              "    <tr>\n",
              "      <th>95</th>\n",
              "      <td>86.650002</td>\n",
              "      <td>87.832449</td>\n",
              "    </tr>\n",
              "    <tr>\n",
              "      <th>1401</th>\n",
              "      <td>124.940002</td>\n",
              "      <td>124.239872</td>\n",
              "    </tr>\n",
              "    <tr>\n",
              "      <th>2162</th>\n",
              "      <td>121.129997</td>\n",
              "      <td>121.062148</td>\n",
              "    </tr>\n",
              "  </tbody>\n",
              "</table>\n",
              "<p>573 rows × 2 columns</p>\n",
              "</div>\n",
              "      <button class=\"colab-df-convert\" onclick=\"convertToInteractive('df-55ad8dcc-e347-408c-a678-b7adfeeb14ec')\"\n",
              "              title=\"Convert this dataframe to an interactive table.\"\n",
              "              style=\"display:none;\">\n",
              "        \n",
              "  <svg xmlns=\"http://www.w3.org/2000/svg\" height=\"24px\"viewBox=\"0 0 24 24\"\n",
              "       width=\"24px\">\n",
              "    <path d=\"M0 0h24v24H0V0z\" fill=\"none\"/>\n",
              "    <path d=\"M18.56 5.44l.94 2.06.94-2.06 2.06-.94-2.06-.94-.94-2.06-.94 2.06-2.06.94zm-11 1L8.5 8.5l.94-2.06 2.06-.94-2.06-.94L8.5 2.5l-.94 2.06-2.06.94zm10 10l.94 2.06.94-2.06 2.06-.94-2.06-.94-.94-2.06-.94 2.06-2.06.94z\"/><path d=\"M17.41 7.96l-1.37-1.37c-.4-.4-.92-.59-1.43-.59-.52 0-1.04.2-1.43.59L10.3 9.45l-7.72 7.72c-.78.78-.78 2.05 0 2.83L4 21.41c.39.39.9.59 1.41.59.51 0 1.02-.2 1.41-.59l7.78-7.78 2.81-2.81c.8-.78.8-2.07 0-2.86zM5.41 20L4 18.59l7.72-7.72 1.47 1.35L5.41 20z\"/>\n",
              "  </svg>\n",
              "      </button>\n",
              "      \n",
              "  <style>\n",
              "    .colab-df-container {\n",
              "      display:flex;\n",
              "      flex-wrap:wrap;\n",
              "      gap: 12px;\n",
              "    }\n",
              "\n",
              "    .colab-df-convert {\n",
              "      background-color: #E8F0FE;\n",
              "      border: none;\n",
              "      border-radius: 50%;\n",
              "      cursor: pointer;\n",
              "      display: none;\n",
              "      fill: #1967D2;\n",
              "      height: 32px;\n",
              "      padding: 0 0 0 0;\n",
              "      width: 32px;\n",
              "    }\n",
              "\n",
              "    .colab-df-convert:hover {\n",
              "      background-color: #E2EBFA;\n",
              "      box-shadow: 0px 1px 2px rgba(60, 64, 67, 0.3), 0px 1px 3px 1px rgba(60, 64, 67, 0.15);\n",
              "      fill: #174EA6;\n",
              "    }\n",
              "\n",
              "    [theme=dark] .colab-df-convert {\n",
              "      background-color: #3B4455;\n",
              "      fill: #D2E3FC;\n",
              "    }\n",
              "\n",
              "    [theme=dark] .colab-df-convert:hover {\n",
              "      background-color: #434B5C;\n",
              "      box-shadow: 0px 1px 3px 1px rgba(0, 0, 0, 0.15);\n",
              "      filter: drop-shadow(0px 1px 2px rgba(0, 0, 0, 0.3));\n",
              "      fill: #FFFFFF;\n",
              "    }\n",
              "  </style>\n",
              "\n",
              "      <script>\n",
              "        const buttonEl =\n",
              "          document.querySelector('#df-55ad8dcc-e347-408c-a678-b7adfeeb14ec button.colab-df-convert');\n",
              "        buttonEl.style.display =\n",
              "          google.colab.kernel.accessAllowed ? 'block' : 'none';\n",
              "\n",
              "        async function convertToInteractive(key) {\n",
              "          const element = document.querySelector('#df-55ad8dcc-e347-408c-a678-b7adfeeb14ec');\n",
              "          const dataTable =\n",
              "            await google.colab.kernel.invokeFunction('convertToInteractive',\n",
              "                                                     [key], {});\n",
              "          if (!dataTable) return;\n",
              "\n",
              "          const docLinkHtml = 'Like what you see? Visit the ' +\n",
              "            '<a target=\"_blank\" href=https://colab.research.google.com/notebooks/data_table.ipynb>data table notebook</a>'\n",
              "            + ' to learn more about interactive tables.';\n",
              "          element.innerHTML = '';\n",
              "          dataTable['output_type'] = 'display_data';\n",
              "          await google.colab.output.renderOutput(dataTable, element);\n",
              "          const docLink = document.createElement('div');\n",
              "          docLink.innerHTML = docLinkHtml;\n",
              "          element.appendChild(docLink);\n",
              "        }\n",
              "      </script>\n",
              "    </div>\n",
              "  </div>\n",
              "  "
            ]
          },
          "metadata": {},
          "execution_count": 27
        }
      ]
    },
    {
      "cell_type": "code",
      "source": [
        "plt.scatter(y_test,y_pred)\n",
        "plt.xlabel(\"Actual Prices\")\n",
        "plt.ylabel(\"Prediction Prices\")\n",
        "plt.title(\"Actual Prices VS Prediction Prices\")\n",
        "plt.show()"
      ],
      "metadata": {
        "colab": {
          "base_uri": "https://localhost:8080/",
          "height": 295
        },
        "id": "pb4p1ZzutTuy",
        "outputId": "b563d23b-d503-4dd3-dc82-855a65726ca4"
      },
      "execution_count": 28,
      "outputs": [
        {
          "output_type": "display_data",
          "data": {
            "text/plain": [
              "<Figure size 432x288 with 1 Axes>"
            ],
            "image/png": "[encoded data removed]"
          },
          "metadata": {
            "needs_background": "light"
          }
        }
      ]
    },
    {
      "cell_type": "markdown",
      "source": [
        "# **10) Evaluation Metrics**"
      ],
      "metadata": {
        "id": "mNudvQsCtYi1"
      }
    },
    {
      "cell_type": "code",
      "source": [
        "from sklearn import metrics\n",
        "print(\"R2-Scores: \",metrics.r2_score(y_test,y_pred))"
      ],
      "metadata": {
        "colab": {
          "base_uri": "https://localhost:8080/"
        },
        "id": "Fg1RXH3btVw-",
        "outputId": "f4a7484f-c502-43de-ee16-d99e7940922e"
      },
      "execution_count": 29,
      "outputs": [
        {
          "output_type": "stream",
          "name": "stdout",
          "text": [
            "R2-Scores:  0.9867282454214267\n"
          ]
        }
      ]
    },
    {
      "cell_type": "markdown",
      "source": [
        "# **11) Feature Importances**"
      ],
      "metadata": {
        "id": "rxgdy1jathlk"
      }
    },
    {
      "cell_type": "code",
      "source": [
        "# Get numerical feature importances\n",
        "importances = list(RF.feature_importances_)\n",
        "# list of tuple with variable and importances\n",
        "feature_importances = [(feature,round(importance,2)) for feature,importance in zip(X,importances)]\n",
        "# Sort the feature and importances\n",
        "feature_importances = sorted(feature_importances, key= lambda X:X[1],reverse = True)\n",
        "# Print out the Feature of importances\n",
        "[print(\"variable: {:20} Importance :{}\".format(*pair)) for pair in feature_importances]"
      ],
      "metadata": {
        "colab": {
          "base_uri": "https://localhost:8080/"
        },
        "id": "Y7y5dSNAtcyt",
        "outputId": "daec0a1e-f681-40bd-825c-c9521c6bcd1e"
      },
      "execution_count": 30,
      "outputs": [
        {
          "output_type": "stream",
          "name": "stdout",
          "text": [
            "variable: SLV                  Importance :0.62\n",
            "variable: SPX                  Importance :0.2\n",
            "variable: USO                  Importance :0.11\n",
            "variable: EUR/USD              Importance :0.06\n"
          ]
        },
        {
          "output_type": "execute_result",
          "data": {
            "text/plain": [
              "[None, None, None, None]"
            ]
          },
          "metadata": {},
          "execution_count": 30
        }
      ]
    },
    {
      "cell_type": "code",
      "source": [],
      "metadata": {
        "id": "nppzL9odtnab"
      },
      "execution_count": null,
      "outputs": []
    }
  ]
}